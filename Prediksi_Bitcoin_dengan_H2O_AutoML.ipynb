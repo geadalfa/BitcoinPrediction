{
  "nbformat": 4,
  "nbformat_minor": 0,
  "metadata": {
    "kernelspec": {
      "display_name": "Python 3",
      "language": "python",
      "name": "python3"
    },
    "language_info": {
      "codemirror_mode": {
        "name": "ipython",
        "version": 3
      },
      "file_extension": ".py",
      "mimetype": "text/x-python",
      "name": "python",
      "nbconvert_exporter": "python",
      "pygments_lexer": "ipython3",
      "version": "3.7.4"
    },
    "colab": {
      "name": "Prediksi Bitcoin dengan H2O AutoML",
      "provenance": [],
      "collapsed_sections": []
    },
    "accelerator": "TPU"
  },
  "cells": [
    {
      "cell_type": "code",
      "metadata": {
        "id": "qcSgEoKemSNq",
        "colab_type": "code",
        "outputId": "fabac828-56d8-464d-b57c-4655a3112e6b",
        "colab": {
          "base_uri": "https://localhost:8080/",
          "height": 340
        }
      },
      "source": [
        "!pip install h2o"
      ],
      "execution_count": 0,
      "outputs": [
        {
          "output_type": "stream",
          "text": [
            "Collecting h2o\n",
            "\u001b[?25l  Downloading https://files.pythonhosted.org/packages/7d/f3/0da4c917ae0d32295c69280dba7ea6f01127866b5cab95f235d3da80b2d2/h2o-3.30.0.2.tar.gz (129.6MB)\n",
            "\u001b[K     |████████████████████████████████| 129.6MB 53kB/s \n",
            "\u001b[?25hRequirement already satisfied: requests in /usr/local/lib/python3.6/dist-packages (from h2o) (2.23.0)\n",
            "Requirement already satisfied: tabulate in /usr/local/lib/python3.6/dist-packages (from h2o) (0.8.7)\n",
            "Requirement already satisfied: future in /usr/local/lib/python3.6/dist-packages (from h2o) (0.16.0)\n",
            "Collecting colorama>=0.3.8\n",
            "  Downloading https://files.pythonhosted.org/packages/c9/dc/45cdef1b4d119eb96316b3117e6d5708a08029992b2fee2c143c7a0a5cc5/colorama-0.4.3-py2.py3-none-any.whl\n",
            "Requirement already satisfied: idna<3,>=2.5 in /usr/local/lib/python3.6/dist-packages (from requests->h2o) (2.9)\n",
            "Requirement already satisfied: certifi>=2017.4.17 in /usr/local/lib/python3.6/dist-packages (from requests->h2o) (2020.4.5.1)\n",
            "Requirement already satisfied: chardet<4,>=3.0.2 in /usr/local/lib/python3.6/dist-packages (from requests->h2o) (3.0.4)\n",
            "Requirement already satisfied: urllib3!=1.25.0,!=1.25.1,<1.26,>=1.21.1 in /usr/local/lib/python3.6/dist-packages (from requests->h2o) (1.24.3)\n",
            "Building wheels for collected packages: h2o\n",
            "  Building wheel for h2o (setup.py) ... \u001b[?25l\u001b[?25hdone\n",
            "  Created wheel for h2o: filename=h2o-3.30.0.2-py2.py3-none-any.whl size=129672980 sha256=4ae7d118e0b62607f342d9eb003575be0efd4b884c093f8c1dfb2542d35b3b88\n",
            "  Stored in directory: /root/.cache/pip/wheels/35/f0/d4/2090fb81ef10fd3dedffd1386a8a4d79b882e8e978fbee4e14\n",
            "Successfully built h2o\n",
            "Installing collected packages: colorama, h2o\n",
            "Successfully installed colorama-0.4.3 h2o-3.30.0.2\n"
          ],
          "name": "stdout"
        }
      ]
    },
    {
      "cell_type": "code",
      "metadata": {
        "id": "XV2MROyDmBXl",
        "colab_type": "code",
        "outputId": "f9075976-cb55-4986-976d-500568445ffb",
        "colab": {
          "base_uri": "https://localhost:8080/",
          "height": 51
        }
      },
      "source": [
        "import pandas as pd\n",
        "import numpy as np\n",
        "import h2o\n",
        "from h2o.automl import H2OAutoML\n",
        "#import numpy as np\n",
        "import matplotlib.pyplot as plt\n",
        "%matplotlib inline\n",
        "import seaborn as sns\n",
        "from scipy import stats"
      ],
      "execution_count": 0,
      "outputs": [
        {
          "output_type": "stream",
          "text": [
            "/usr/local/lib/python3.6/dist-packages/statsmodels/tools/_testing.py:19: FutureWarning: pandas.util.testing is deprecated. Use the functions in the public API at pandas.testing instead.\n",
            "  import pandas.util.testing as tm\n"
          ],
          "name": "stderr"
        }
      ]
    },
    {
      "cell_type": "code",
      "metadata": {
        "id": "TM0HHphVmBYH",
        "colab_type": "code",
        "outputId": "957050d4-db73-46fa-fe43-140a98137f22",
        "colab": {
          "base_uri": "https://localhost:8080/",
          "height": 880
        }
      },
      "source": [
        "h2o.init()\n",
        "h2o.connect()"
      ],
      "execution_count": 0,
      "outputs": [
        {
          "output_type": "stream",
          "text": [
            "Checking whether there is an H2O instance running at http://localhost:54321 ..... not found.\n",
            "Attempting to start a local H2O server...\n",
            "  Java Version: openjdk version \"11.0.7\" 2020-04-14; OpenJDK Runtime Environment (build 11.0.7+10-post-Ubuntu-2ubuntu218.04); OpenJDK 64-Bit Server VM (build 11.0.7+10-post-Ubuntu-2ubuntu218.04, mixed mode, sharing)\n",
            "  Starting server from /usr/local/lib/python3.6/dist-packages/h2o/backend/bin/h2o.jar\n",
            "  Ice root: /tmp/tmpqq_61fi5\n",
            "  JVM stdout: /tmp/tmpqq_61fi5/h2o_unknownUser_started_from_python.out\n",
            "  JVM stderr: /tmp/tmpqq_61fi5/h2o_unknownUser_started_from_python.err\n",
            "  Server is running at http://127.0.0.1:54321\n",
            "Connecting to H2O server at http://127.0.0.1:54321 ... successful.\n"
          ],
          "name": "stdout"
        },
        {
          "output_type": "display_data",
          "data": {
            "text/html": [
              "<div style=\"overflow:auto\"><table style=\"width:50%\"><tr><td>H2O_cluster_uptime:</td>\n",
              "<td>02 secs</td></tr>\n",
              "<tr><td>H2O_cluster_timezone:</td>\n",
              "<td>Etc/UTC</td></tr>\n",
              "<tr><td>H2O_data_parsing_timezone:</td>\n",
              "<td>UTC</td></tr>\n",
              "<tr><td>H2O_cluster_version:</td>\n",
              "<td>3.30.0.2</td></tr>\n",
              "<tr><td>H2O_cluster_version_age:</td>\n",
              "<td>8 days </td></tr>\n",
              "<tr><td>H2O_cluster_name:</td>\n",
              "<td>H2O_from_python_unknownUser_a1k87z</td></tr>\n",
              "<tr><td>H2O_cluster_total_nodes:</td>\n",
              "<td>1</td></tr>\n",
              "<tr><td>H2O_cluster_free_memory:</td>\n",
              "<td>3.180 Gb</td></tr>\n",
              "<tr><td>H2O_cluster_total_cores:</td>\n",
              "<td>2</td></tr>\n",
              "<tr><td>H2O_cluster_allowed_cores:</td>\n",
              "<td>2</td></tr>\n",
              "<tr><td>H2O_cluster_status:</td>\n",
              "<td>accepting new members, healthy</td></tr>\n",
              "<tr><td>H2O_connection_url:</td>\n",
              "<td>http://127.0.0.1:54321</td></tr>\n",
              "<tr><td>H2O_connection_proxy:</td>\n",
              "<td>{\"http\": null, \"https\": null}</td></tr>\n",
              "<tr><td>H2O_internal_security:</td>\n",
              "<td>False</td></tr>\n",
              "<tr><td>H2O_API_Extensions:</td>\n",
              "<td>Amazon S3, XGBoost, Algos, AutoML, Core V3, TargetEncoder, Core V4</td></tr>\n",
              "<tr><td>Python_version:</td>\n",
              "<td>3.6.9 final</td></tr></table></div>"
            ],
            "text/plain": [
              "--------------------------  ------------------------------------------------------------------\n",
              "H2O_cluster_uptime:         02 secs\n",
              "H2O_cluster_timezone:       Etc/UTC\n",
              "H2O_data_parsing_timezone:  UTC\n",
              "H2O_cluster_version:        3.30.0.2\n",
              "H2O_cluster_version_age:    8 days\n",
              "H2O_cluster_name:           H2O_from_python_unknownUser_a1k87z\n",
              "H2O_cluster_total_nodes:    1\n",
              "H2O_cluster_free_memory:    3.180 Gb\n",
              "H2O_cluster_total_cores:    2\n",
              "H2O_cluster_allowed_cores:  2\n",
              "H2O_cluster_status:         accepting new members, healthy\n",
              "H2O_connection_url:         http://127.0.0.1:54321\n",
              "H2O_connection_proxy:       {\"http\": null, \"https\": null}\n",
              "H2O_internal_security:      False\n",
              "H2O_API_Extensions:         Amazon S3, XGBoost, Algos, AutoML, Core V3, TargetEncoder, Core V4\n",
              "Python_version:             3.6.9 final\n",
              "--------------------------  ------------------------------------------------------------------"
            ]
          },
          "metadata": {
            "tags": []
          }
        },
        {
          "output_type": "stream",
          "text": [
            "Connecting to H2O server at http://localhost:54321 ... successful.\n"
          ],
          "name": "stdout"
        },
        {
          "output_type": "display_data",
          "data": {
            "text/html": [
              "<div style=\"overflow:auto\"><table style=\"width:50%\"><tr><td>H2O_cluster_uptime:</td>\n",
              "<td>03 secs</td></tr>\n",
              "<tr><td>H2O_cluster_timezone:</td>\n",
              "<td>Etc/UTC</td></tr>\n",
              "<tr><td>H2O_data_parsing_timezone:</td>\n",
              "<td>UTC</td></tr>\n",
              "<tr><td>H2O_cluster_version:</td>\n",
              "<td>3.30.0.2</td></tr>\n",
              "<tr><td>H2O_cluster_version_age:</td>\n",
              "<td>8 days </td></tr>\n",
              "<tr><td>H2O_cluster_name:</td>\n",
              "<td>H2O_from_python_unknownUser_a1k87z</td></tr>\n",
              "<tr><td>H2O_cluster_total_nodes:</td>\n",
              "<td>1</td></tr>\n",
              "<tr><td>H2O_cluster_free_memory:</td>\n",
              "<td>3.180 Gb</td></tr>\n",
              "<tr><td>H2O_cluster_total_cores:</td>\n",
              "<td>2</td></tr>\n",
              "<tr><td>H2O_cluster_allowed_cores:</td>\n",
              "<td>2</td></tr>\n",
              "<tr><td>H2O_cluster_status:</td>\n",
              "<td>locked, healthy</td></tr>\n",
              "<tr><td>H2O_connection_url:</td>\n",
              "<td>http://localhost:54321</td></tr>\n",
              "<tr><td>H2O_connection_proxy:</td>\n",
              "<td>{\"http\": null, \"https\": null}</td></tr>\n",
              "<tr><td>H2O_internal_security:</td>\n",
              "<td>False</td></tr>\n",
              "<tr><td>H2O_API_Extensions:</td>\n",
              "<td>Amazon S3, XGBoost, Algos, AutoML, Core V3, TargetEncoder, Core V4</td></tr>\n",
              "<tr><td>Python_version:</td>\n",
              "<td>3.6.9 final</td></tr></table></div>"
            ],
            "text/plain": [
              "--------------------------  ------------------------------------------------------------------\n",
              "H2O_cluster_uptime:         03 secs\n",
              "H2O_cluster_timezone:       Etc/UTC\n",
              "H2O_data_parsing_timezone:  UTC\n",
              "H2O_cluster_version:        3.30.0.2\n",
              "H2O_cluster_version_age:    8 days\n",
              "H2O_cluster_name:           H2O_from_python_unknownUser_a1k87z\n",
              "H2O_cluster_total_nodes:    1\n",
              "H2O_cluster_free_memory:    3.180 Gb\n",
              "H2O_cluster_total_cores:    2\n",
              "H2O_cluster_allowed_cores:  2\n",
              "H2O_cluster_status:         locked, healthy\n",
              "H2O_connection_url:         http://localhost:54321\n",
              "H2O_connection_proxy:       {\"http\": null, \"https\": null}\n",
              "H2O_internal_security:      False\n",
              "H2O_API_Extensions:         Amazon S3, XGBoost, Algos, AutoML, Core V3, TargetEncoder, Core V4\n",
              "Python_version:             3.6.9 final\n",
              "--------------------------  ------------------------------------------------------------------"
            ]
          },
          "metadata": {
            "tags": []
          }
        },
        {
          "output_type": "execute_result",
          "data": {
            "text/plain": [
              "<H2OConnection to http://localhost:54321, no session>"
            ]
          },
          "metadata": {
            "tags": []
          },
          "execution_count": 3
        }
      ]
    },
    {
      "cell_type": "code",
      "metadata": {
        "id": "Qe1j6O4Hmjxe",
        "colab_type": "code",
        "outputId": "8d381e48-22f4-4605-d359-0ae27c932b1b",
        "colab": {
          "base_uri": "https://localhost:8080/",
          "height": 122
        }
      },
      "source": [
        "from google.colab import drive\n",
        "drive.mount('/content/drive')"
      ],
      "execution_count": 0,
      "outputs": [
        {
          "output_type": "stream",
          "text": [
            "Go to this URL in a browser: https://accounts.google.com/o/oauth2/auth?client_id=947318989803-6bn6qk8qdgf4n4g3pfee6491hc0brc4i.apps.googleusercontent.com&redirect_uri=urn%3aietf%3awg%3aoauth%3a2.0%3aoob&response_type=code&scope=email%20https%3a%2f%2fwww.googleapis.com%2fauth%2fdocs.test%20https%3a%2f%2fwww.googleapis.com%2fauth%2fdrive%20https%3a%2f%2fwww.googleapis.com%2fauth%2fdrive.photos.readonly%20https%3a%2f%2fwww.googleapis.com%2fauth%2fpeopleapi.readonly\n",
            "\n",
            "Enter your authorization code:\n",
            "··········\n",
            "Mounted at /content/drive\n"
          ],
          "name": "stdout"
        }
      ]
    },
    {
      "cell_type": "code",
      "metadata": {
        "id": "PiKH0fkOmBYk",
        "colab_type": "code",
        "outputId": "6619b466-f3a1-4a2d-beec-28163a94df7d",
        "colab": {
          "base_uri": "https://localhost:8080/",
          "height": 153
        }
      },
      "source": [
        "df = pd.read_csv('/content/drive/My Drive/BTC-USD.csv',index_col=\"Date\", parse_dates=True)\n",
        "print(df.shape)\n",
        "print(df.dtypes)"
      ],
      "execution_count": 0,
      "outputs": [
        {
          "output_type": "stream",
          "text": [
            "(2018, 6)\n",
            "Open         float64\n",
            "High         float64\n",
            "Low          float64\n",
            "Close        float64\n",
            "Adj Close    float64\n",
            "Volume       float64\n",
            "dtype: object\n"
          ],
          "name": "stdout"
        }
      ]
    },
    {
      "cell_type": "code",
      "metadata": {
        "id": "TksQZ2MMTZCF",
        "colab_type": "code",
        "outputId": "1fec9574-a3ce-4fc9-d100-f08fbb697ede",
        "colab": {
          "base_uri": "https://localhost:8080/",
          "height": 235
        }
      },
      "source": [
        "df.head()"
      ],
      "execution_count": 0,
      "outputs": [
        {
          "output_type": "execute_result",
          "data": {
            "text/html": [
              "<div>\n",
              "<style scoped>\n",
              "    .dataframe tbody tr th:only-of-type {\n",
              "        vertical-align: middle;\n",
              "    }\n",
              "\n",
              "    .dataframe tbody tr th {\n",
              "        vertical-align: top;\n",
              "    }\n",
              "\n",
              "    .dataframe thead th {\n",
              "        text-align: right;\n",
              "    }\n",
              "</style>\n",
              "<table border=\"1\" class=\"dataframe\">\n",
              "  <thead>\n",
              "    <tr style=\"text-align: right;\">\n",
              "      <th></th>\n",
              "      <th>Open</th>\n",
              "      <th>High</th>\n",
              "      <th>Low</th>\n",
              "      <th>Close</th>\n",
              "      <th>Adj Close</th>\n",
              "      <th>Volume</th>\n",
              "    </tr>\n",
              "    <tr>\n",
              "      <th>Date</th>\n",
              "      <th></th>\n",
              "      <th></th>\n",
              "      <th></th>\n",
              "      <th></th>\n",
              "      <th></th>\n",
              "      <th></th>\n",
              "    </tr>\n",
              "  </thead>\n",
              "  <tbody>\n",
              "    <tr>\n",
              "      <th>2014-09-17</th>\n",
              "      <td>465.864014</td>\n",
              "      <td>468.174011</td>\n",
              "      <td>452.421997</td>\n",
              "      <td>457.334015</td>\n",
              "      <td>457.334015</td>\n",
              "      <td>21056800.0</td>\n",
              "    </tr>\n",
              "    <tr>\n",
              "      <th>2014-09-18</th>\n",
              "      <td>456.859985</td>\n",
              "      <td>456.859985</td>\n",
              "      <td>413.104004</td>\n",
              "      <td>424.440002</td>\n",
              "      <td>424.440002</td>\n",
              "      <td>34483200.0</td>\n",
              "    </tr>\n",
              "    <tr>\n",
              "      <th>2014-09-19</th>\n",
              "      <td>424.102997</td>\n",
              "      <td>427.834991</td>\n",
              "      <td>384.532013</td>\n",
              "      <td>394.795990</td>\n",
              "      <td>394.795990</td>\n",
              "      <td>37919700.0</td>\n",
              "    </tr>\n",
              "    <tr>\n",
              "      <th>2014-09-20</th>\n",
              "      <td>394.673004</td>\n",
              "      <td>423.295990</td>\n",
              "      <td>389.882996</td>\n",
              "      <td>408.903992</td>\n",
              "      <td>408.903992</td>\n",
              "      <td>36863600.0</td>\n",
              "    </tr>\n",
              "    <tr>\n",
              "      <th>2014-09-21</th>\n",
              "      <td>408.084991</td>\n",
              "      <td>412.425995</td>\n",
              "      <td>393.181000</td>\n",
              "      <td>398.821014</td>\n",
              "      <td>398.821014</td>\n",
              "      <td>26580100.0</td>\n",
              "    </tr>\n",
              "  </tbody>\n",
              "</table>\n",
              "</div>"
            ],
            "text/plain": [
              "                  Open        High  ...   Adj Close      Volume\n",
              "Date                                ...                        \n",
              "2014-09-17  465.864014  468.174011  ...  457.334015  21056800.0\n",
              "2014-09-18  456.859985  456.859985  ...  424.440002  34483200.0\n",
              "2014-09-19  424.102997  427.834991  ...  394.795990  37919700.0\n",
              "2014-09-20  394.673004  423.295990  ...  408.903992  36863600.0\n",
              "2014-09-21  408.084991  412.425995  ...  398.821014  26580100.0\n",
              "\n",
              "[5 rows x 6 columns]"
            ]
          },
          "metadata": {
            "tags": []
          },
          "execution_count": 39
        }
      ]
    },
    {
      "cell_type": "code",
      "metadata": {
        "id": "7_EwRzpOmBY3",
        "colab_type": "code",
        "outputId": "6dcec2d7-9d10-4d96-9721-b3a991ce68b1",
        "colab": {
          "base_uri": "https://localhost:8080/",
          "height": 235
        }
      },
      "source": [
        "df.tail()"
      ],
      "execution_count": 0,
      "outputs": [
        {
          "output_type": "execute_result",
          "data": {
            "text/html": [
              "<div>\n",
              "<style scoped>\n",
              "    .dataframe tbody tr th:only-of-type {\n",
              "        vertical-align: middle;\n",
              "    }\n",
              "\n",
              "    .dataframe tbody tr th {\n",
              "        vertical-align: top;\n",
              "    }\n",
              "\n",
              "    .dataframe thead th {\n",
              "        text-align: right;\n",
              "    }\n",
              "</style>\n",
              "<table border=\"1\" class=\"dataframe\">\n",
              "  <thead>\n",
              "    <tr style=\"text-align: right;\">\n",
              "      <th></th>\n",
              "      <th>Open</th>\n",
              "      <th>High</th>\n",
              "      <th>Low</th>\n",
              "      <th>Close</th>\n",
              "      <th>Adj Close</th>\n",
              "      <th>Volume</th>\n",
              "    </tr>\n",
              "    <tr>\n",
              "      <th>Date</th>\n",
              "      <th></th>\n",
              "      <th></th>\n",
              "      <th></th>\n",
              "      <th></th>\n",
              "      <th></th>\n",
              "      <th></th>\n",
              "    </tr>\n",
              "  </thead>\n",
              "  <tbody>\n",
              "    <tr>\n",
              "      <th>2020-03-22</th>\n",
              "      <td>6185.558105</td>\n",
              "      <td>6359.697266</td>\n",
              "      <td>5823.713867</td>\n",
              "      <td>5830.254883</td>\n",
              "      <td>5830.254883</td>\n",
              "      <td>4.009966e+10</td>\n",
              "    </tr>\n",
              "    <tr>\n",
              "      <th>2020-03-23</th>\n",
              "      <td>5831.374512</td>\n",
              "      <td>6443.934570</td>\n",
              "      <td>5785.004395</td>\n",
              "      <td>6416.314941</td>\n",
              "      <td>6416.314941</td>\n",
              "      <td>4.649192e+10</td>\n",
              "    </tr>\n",
              "    <tr>\n",
              "      <th>2020-03-24</th>\n",
              "      <td>6436.642578</td>\n",
              "      <td>6789.022949</td>\n",
              "      <td>6411.066406</td>\n",
              "      <td>6734.803711</td>\n",
              "      <td>6734.803711</td>\n",
              "      <td>4.822191e+10</td>\n",
              "    </tr>\n",
              "    <tr>\n",
              "      <th>2020-03-25</th>\n",
              "      <td>NaN</td>\n",
              "      <td>NaN</td>\n",
              "      <td>NaN</td>\n",
              "      <td>NaN</td>\n",
              "      <td>NaN</td>\n",
              "      <td>NaN</td>\n",
              "    </tr>\n",
              "    <tr>\n",
              "      <th>2020-03-26</th>\n",
              "      <td>6691.608887</td>\n",
              "      <td>6730.420410</td>\n",
              "      <td>6687.992188</td>\n",
              "      <td>6702.319336</td>\n",
              "      <td>6702.319336</td>\n",
              "      <td>4.370103e+10</td>\n",
              "    </tr>\n",
              "  </tbody>\n",
              "</table>\n",
              "</div>"
            ],
            "text/plain": [
              "                   Open         High  ...    Adj Close        Volume\n",
              "Date                                  ...                           \n",
              "2020-03-22  6185.558105  6359.697266  ...  5830.254883  4.009966e+10\n",
              "2020-03-23  5831.374512  6443.934570  ...  6416.314941  4.649192e+10\n",
              "2020-03-24  6436.642578  6789.022949  ...  6734.803711  4.822191e+10\n",
              "2020-03-25          NaN          NaN  ...          NaN           NaN\n",
              "2020-03-26  6691.608887  6730.420410  ...  6702.319336  4.370103e+10\n",
              "\n",
              "[5 rows x 6 columns]"
            ]
          },
          "metadata": {
            "tags": []
          },
          "execution_count": 6
        }
      ]
    },
    {
      "cell_type": "code",
      "metadata": {
        "id": "GB4M-bIPmBZJ",
        "colab_type": "code",
        "outputId": "0254bf48-654b-442f-8db4-0a5f197aaa8c",
        "colab": {
          "base_uri": "https://localhost:8080/",
          "height": 297
        }
      },
      "source": [
        "df.describe()"
      ],
      "execution_count": 0,
      "outputs": [
        {
          "output_type": "execute_result",
          "data": {
            "text/html": [
              "<div>\n",
              "<style scoped>\n",
              "    .dataframe tbody tr th:only-of-type {\n",
              "        vertical-align: middle;\n",
              "    }\n",
              "\n",
              "    .dataframe tbody tr th {\n",
              "        vertical-align: top;\n",
              "    }\n",
              "\n",
              "    .dataframe thead th {\n",
              "        text-align: right;\n",
              "    }\n",
              "</style>\n",
              "<table border=\"1\" class=\"dataframe\">\n",
              "  <thead>\n",
              "    <tr style=\"text-align: right;\">\n",
              "      <th></th>\n",
              "      <th>Open</th>\n",
              "      <th>High</th>\n",
              "      <th>Low</th>\n",
              "      <th>Close</th>\n",
              "      <th>Adj Close</th>\n",
              "      <th>Volume</th>\n",
              "    </tr>\n",
              "  </thead>\n",
              "  <tbody>\n",
              "    <tr>\n",
              "      <th>count</th>\n",
              "      <td>2017.000000</td>\n",
              "      <td>2017.000000</td>\n",
              "      <td>2017.000000</td>\n",
              "      <td>2017.000000</td>\n",
              "      <td>2017.000000</td>\n",
              "      <td>2.017000e+03</td>\n",
              "    </tr>\n",
              "    <tr>\n",
              "      <th>mean</th>\n",
              "      <td>3956.133837</td>\n",
              "      <td>4061.877993</td>\n",
              "      <td>3841.245164</td>\n",
              "      <td>3959.139106</td>\n",
              "      <td>3959.139106</td>\n",
              "      <td>6.117338e+09</td>\n",
              "    </tr>\n",
              "    <tr>\n",
              "      <th>std</th>\n",
              "      <td>3995.377660</td>\n",
              "      <td>4122.029468</td>\n",
              "      <td>3845.565986</td>\n",
              "      <td>3995.094934</td>\n",
              "      <td>3995.094934</td>\n",
              "      <td>9.773840e+09</td>\n",
              "    </tr>\n",
              "    <tr>\n",
              "      <th>min</th>\n",
              "      <td>176.897003</td>\n",
              "      <td>211.731003</td>\n",
              "      <td>171.509995</td>\n",
              "      <td>178.102997</td>\n",
              "      <td>178.102997</td>\n",
              "      <td>5.914570e+06</td>\n",
              "    </tr>\n",
              "    <tr>\n",
              "      <th>25%</th>\n",
              "      <td>419.592010</td>\n",
              "      <td>423.657013</td>\n",
              "      <td>415.256989</td>\n",
              "      <td>420.230011</td>\n",
              "      <td>420.230011</td>\n",
              "      <td>5.531850e+07</td>\n",
              "    </tr>\n",
              "    <tr>\n",
              "      <th>50%</th>\n",
              "      <td>2514.010010</td>\n",
              "      <td>2588.830078</td>\n",
              "      <td>2423.570068</td>\n",
              "      <td>2518.439941</td>\n",
              "      <td>2518.439941</td>\n",
              "      <td>1.111200e+09</td>\n",
              "    </tr>\n",
              "    <tr>\n",
              "      <th>75%</th>\n",
              "      <td>7244.662109</td>\n",
              "      <td>7408.577148</td>\n",
              "      <td>7072.490234</td>\n",
              "      <td>7243.134277</td>\n",
              "      <td>7243.134277</td>\n",
              "      <td>7.317280e+09</td>\n",
              "    </tr>\n",
              "    <tr>\n",
              "      <th>max</th>\n",
              "      <td>19475.800781</td>\n",
              "      <td>20089.000000</td>\n",
              "      <td>18974.099609</td>\n",
              "      <td>19497.400391</td>\n",
              "      <td>19497.400391</td>\n",
              "      <td>7.415677e+10</td>\n",
              "    </tr>\n",
              "  </tbody>\n",
              "</table>\n",
              "</div>"
            ],
            "text/plain": [
              "               Open          High  ...     Adj Close        Volume\n",
              "count   2017.000000   2017.000000  ...   2017.000000  2.017000e+03\n",
              "mean    3956.133837   4061.877993  ...   3959.139106  6.117338e+09\n",
              "std     3995.377660   4122.029468  ...   3995.094934  9.773840e+09\n",
              "min      176.897003    211.731003  ...    178.102997  5.914570e+06\n",
              "25%      419.592010    423.657013  ...    420.230011  5.531850e+07\n",
              "50%     2514.010010   2588.830078  ...   2518.439941  1.111200e+09\n",
              "75%     7244.662109   7408.577148  ...   7243.134277  7.317280e+09\n",
              "max    19475.800781  20089.000000  ...  19497.400391  7.415677e+10\n",
              "\n",
              "[8 rows x 6 columns]"
            ]
          },
          "metadata": {
            "tags": []
          },
          "execution_count": 7
        }
      ]
    },
    {
      "cell_type": "code",
      "metadata": {
        "id": "fhSl9_lYNt9h",
        "colab_type": "code",
        "outputId": "06b9e0e2-4731-407b-a6f8-e38b7ad8881f",
        "colab": {
          "base_uri": "https://localhost:8080/",
          "height": 136
        }
      },
      "source": [
        "df.isna().sum()"
      ],
      "execution_count": 0,
      "outputs": [
        {
          "output_type": "execute_result",
          "data": {
            "text/plain": [
              "Open         1\n",
              "High         1\n",
              "Low          1\n",
              "Close        1\n",
              "Adj Close    1\n",
              "Volume       1\n",
              "dtype: int64"
            ]
          },
          "metadata": {
            "tags": []
          },
          "execution_count": 8
        }
      ]
    },
    {
      "cell_type": "code",
      "metadata": {
        "id": "zMs8c663Nwk6",
        "colab_type": "code",
        "colab": {}
      },
      "source": [
        "df=df.dropna()"
      ],
      "execution_count": 0,
      "outputs": []
    },
    {
      "cell_type": "code",
      "metadata": {
        "id": "YnRCdsURbYX2",
        "colab_type": "code",
        "outputId": "81306390-14e3-49e0-b632-6eaf44d32796",
        "colab": {
          "base_uri": "https://localhost:8080/",
          "height": 34
        }
      },
      "source": [
        "df.shape"
      ],
      "execution_count": 0,
      "outputs": [
        {
          "output_type": "execute_result",
          "data": {
            "text/plain": [
              "(2017, 6)"
            ]
          },
          "metadata": {
            "tags": []
          },
          "execution_count": 40
        }
      ]
    },
    {
      "cell_type": "code",
      "metadata": {
        "id": "xDWWicKtmBZ5",
        "colab_type": "code",
        "outputId": "dc0193fc-bbc9-4877-a1b0-4c47a2870496",
        "colab": {
          "base_uri": "https://localhost:8080/",
          "height": 289
        }
      },
      "source": [
        "print(df.tail())\n",
        "print(df.isna().sum())"
      ],
      "execution_count": 0,
      "outputs": [
        {
          "output_type": "stream",
          "text": [
            "                   Open         High  ...    Adj Close        Volume\n",
            "Date                                  ...                           \n",
            "2020-03-21  6206.521484  6378.135254  ...  6185.066406  4.249439e+10\n",
            "2020-03-22  6185.558105  6359.697266  ...  5830.254883  4.009966e+10\n",
            "2020-03-23  5831.374512  6443.934570  ...  6416.314941  4.649192e+10\n",
            "2020-03-24  6436.642578  6789.022949  ...  6734.803711  4.822191e+10\n",
            "2020-03-26  6691.608887  6730.420410  ...  6702.319336  4.370103e+10\n",
            "\n",
            "[5 rows x 6 columns]\n",
            "Open         0\n",
            "High         0\n",
            "Low          0\n",
            "Close        0\n",
            "Adj Close    0\n",
            "Volume       0\n",
            "dtype: int64\n"
          ],
          "name": "stdout"
        }
      ]
    },
    {
      "cell_type": "code",
      "metadata": {
        "id": "mFYkFriOceRM",
        "colab_type": "code",
        "outputId": "2eafa9e9-9050-4f08-84e7-49c8059f16b8",
        "colab": {
          "base_uri": "https://localhost:8080/",
          "height": 238
        }
      },
      "source": [
        "df2 = df.copy()\n",
        "num_lags = 3 # jumlah lag dan panjang jendela untuk agregat mean\n",
        "delay = 1 # memprediksi target 1 langkah kedepan\n",
        "for column in df2:\n",
        "    for lag in range(1,num_lags+1):\n",
        "        df2[column + '_lag' + str(lag)] = df2[column].shift(lag*-1-(delay-1))\n",
        "        if column != 'Volume':\n",
        "            df2[column + '_avg_window_length' + str(lag+1)] = df2[column].shift(-1-(delay-1)).rolling(window=lag+1,center=False).mean().shift(1-(lag+1))\n",
        "\n",
        "df2.dropna(inplace=True) \n",
        "\n",
        "mask = (df2.columns.str.contains('Open') | df2.columns.str.contains('lag') | df2.columns.str.contains('window'))\n",
        "df_processed = df2[df2.columns[mask]]\n",
        "\n",
        "# kolom dalam dataframe yang terbentuk dari proses diatas\n",
        "df_processed.columns"
      ],
      "execution_count": 0,
      "outputs": [
        {
          "output_type": "execute_result",
          "data": {
            "text/plain": [
              "Index(['Open', 'Open_lag1', 'Open_avg_window_length2', 'Open_lag2',\n",
              "       'Open_avg_window_length3', 'Open_lag3', 'Open_avg_window_length4',\n",
              "       'High_lag1', 'High_avg_window_length2', 'High_lag2',\n",
              "       'High_avg_window_length3', 'High_lag3', 'High_avg_window_length4',\n",
              "       'Low_lag1', 'Low_avg_window_length2', 'Low_lag2',\n",
              "       'Low_avg_window_length3', 'Low_lag3', 'Low_avg_window_length4',\n",
              "       'Close_lag1', 'Close_avg_window_length2', 'Close_lag2',\n",
              "       'Close_avg_window_length3', 'Close_lag3', 'Close_avg_window_length4',\n",
              "       'Adj Close_lag1', 'Adj Close_avg_window_length2', 'Adj Close_lag2',\n",
              "       'Adj Close_avg_window_length3', 'Adj Close_lag3',\n",
              "       'Adj Close_avg_window_length4', 'Volume_lag1', 'Volume_lag2',\n",
              "       'Volume_lag3'],\n",
              "      dtype='object')"
            ]
          },
          "metadata": {
            "tags": []
          },
          "execution_count": 11
        }
      ]
    },
    {
      "cell_type": "code",
      "metadata": {
        "id": "yGQFwAM6f27T",
        "colab_type": "code",
        "outputId": "73705384-efb7-41ca-cb5c-ea74deed667d",
        "colab": {
          "base_uri": "https://localhost:8080/",
          "height": 213
        }
      },
      "source": [
        "df_processed.head(2)"
      ],
      "execution_count": 0,
      "outputs": [
        {
          "output_type": "execute_result",
          "data": {
            "text/html": [
              "<div>\n",
              "<style scoped>\n",
              "    .dataframe tbody tr th:only-of-type {\n",
              "        vertical-align: middle;\n",
              "    }\n",
              "\n",
              "    .dataframe tbody tr th {\n",
              "        vertical-align: top;\n",
              "    }\n",
              "\n",
              "    .dataframe thead th {\n",
              "        text-align: right;\n",
              "    }\n",
              "</style>\n",
              "<table border=\"1\" class=\"dataframe\">\n",
              "  <thead>\n",
              "    <tr style=\"text-align: right;\">\n",
              "      <th></th>\n",
              "      <th>Open</th>\n",
              "      <th>Open_lag1</th>\n",
              "      <th>Open_avg_window_length2</th>\n",
              "      <th>Open_lag2</th>\n",
              "      <th>Open_avg_window_length3</th>\n",
              "      <th>Open_lag3</th>\n",
              "      <th>Open_avg_window_length4</th>\n",
              "      <th>High_lag1</th>\n",
              "      <th>High_avg_window_length2</th>\n",
              "      <th>High_lag2</th>\n",
              "      <th>High_avg_window_length3</th>\n",
              "      <th>High_lag3</th>\n",
              "      <th>High_avg_window_length4</th>\n",
              "      <th>Low_lag1</th>\n",
              "      <th>Low_avg_window_length2</th>\n",
              "      <th>Low_lag2</th>\n",
              "      <th>Low_avg_window_length3</th>\n",
              "      <th>Low_lag3</th>\n",
              "      <th>Low_avg_window_length4</th>\n",
              "      <th>Close_lag1</th>\n",
              "      <th>Close_avg_window_length2</th>\n",
              "      <th>Close_lag2</th>\n",
              "      <th>Close_avg_window_length3</th>\n",
              "      <th>Close_lag3</th>\n",
              "      <th>Close_avg_window_length4</th>\n",
              "      <th>Adj Close_lag1</th>\n",
              "      <th>Adj Close_avg_window_length2</th>\n",
              "      <th>Adj Close_lag2</th>\n",
              "      <th>Adj Close_avg_window_length3</th>\n",
              "      <th>Adj Close_lag3</th>\n",
              "      <th>Adj Close_avg_window_length4</th>\n",
              "      <th>Volume_lag1</th>\n",
              "      <th>Volume_lag2</th>\n",
              "      <th>Volume_lag3</th>\n",
              "    </tr>\n",
              "    <tr>\n",
              "      <th>Date</th>\n",
              "      <th></th>\n",
              "      <th></th>\n",
              "      <th></th>\n",
              "      <th></th>\n",
              "      <th></th>\n",
              "      <th></th>\n",
              "      <th></th>\n",
              "      <th></th>\n",
              "      <th></th>\n",
              "      <th></th>\n",
              "      <th></th>\n",
              "      <th></th>\n",
              "      <th></th>\n",
              "      <th></th>\n",
              "      <th></th>\n",
              "      <th></th>\n",
              "      <th></th>\n",
              "      <th></th>\n",
              "      <th></th>\n",
              "      <th></th>\n",
              "      <th></th>\n",
              "      <th></th>\n",
              "      <th></th>\n",
              "      <th></th>\n",
              "      <th></th>\n",
              "      <th></th>\n",
              "      <th></th>\n",
              "      <th></th>\n",
              "      <th></th>\n",
              "      <th></th>\n",
              "      <th></th>\n",
              "      <th></th>\n",
              "      <th></th>\n",
              "      <th></th>\n",
              "    </tr>\n",
              "  </thead>\n",
              "  <tbody>\n",
              "    <tr>\n",
              "      <th>2014-09-17</th>\n",
              "      <td>465.864014</td>\n",
              "      <td>456.859985</td>\n",
              "      <td>440.481491</td>\n",
              "      <td>424.102997</td>\n",
              "      <td>425.211995</td>\n",
              "      <td>394.673004</td>\n",
              "      <td>420.930244</td>\n",
              "      <td>456.859985</td>\n",
              "      <td>442.347488</td>\n",
              "      <td>427.834991</td>\n",
              "      <td>435.996989</td>\n",
              "      <td>423.295990</td>\n",
              "      <td>430.10424</td>\n",
              "      <td>413.104004</td>\n",
              "      <td>398.818009</td>\n",
              "      <td>384.532013</td>\n",
              "      <td>395.839671</td>\n",
              "      <td>389.882996</td>\n",
              "      <td>395.175003</td>\n",
              "      <td>424.440002</td>\n",
              "      <td>409.617996</td>\n",
              "      <td>394.795990</td>\n",
              "      <td>409.379995</td>\n",
              "      <td>408.903992</td>\n",
              "      <td>406.740250</td>\n",
              "      <td>424.440002</td>\n",
              "      <td>409.617996</td>\n",
              "      <td>394.795990</td>\n",
              "      <td>409.379995</td>\n",
              "      <td>408.903992</td>\n",
              "      <td>406.740250</td>\n",
              "      <td>34483200.0</td>\n",
              "      <td>37919700.0</td>\n",
              "      <td>36863600.0</td>\n",
              "    </tr>\n",
              "    <tr>\n",
              "      <th>2014-09-18</th>\n",
              "      <td>456.859985</td>\n",
              "      <td>424.102997</td>\n",
              "      <td>409.388000</td>\n",
              "      <td>394.673004</td>\n",
              "      <td>408.953664</td>\n",
              "      <td>408.084991</td>\n",
              "      <td>406.490249</td>\n",
              "      <td>427.834991</td>\n",
              "      <td>425.565491</td>\n",
              "      <td>423.295990</td>\n",
              "      <td>421.185659</td>\n",
              "      <td>412.425995</td>\n",
              "      <td>417.61824</td>\n",
              "      <td>384.532013</td>\n",
              "      <td>387.207505</td>\n",
              "      <td>389.882996</td>\n",
              "      <td>389.198670</td>\n",
              "      <td>393.181000</td>\n",
              "      <td>391.181504</td>\n",
              "      <td>394.795990</td>\n",
              "      <td>401.849991</td>\n",
              "      <td>408.903992</td>\n",
              "      <td>400.840332</td>\n",
              "      <td>398.821014</td>\n",
              "      <td>401.168251</td>\n",
              "      <td>394.795990</td>\n",
              "      <td>401.849991</td>\n",
              "      <td>408.903992</td>\n",
              "      <td>400.840332</td>\n",
              "      <td>398.821014</td>\n",
              "      <td>401.168251</td>\n",
              "      <td>37919700.0</td>\n",
              "      <td>36863600.0</td>\n",
              "      <td>26580100.0</td>\n",
              "    </tr>\n",
              "  </tbody>\n",
              "</table>\n",
              "</div>"
            ],
            "text/plain": [
              "                  Open   Open_lag1  ...  Volume_lag2  Volume_lag3\n",
              "Date                                ...                          \n",
              "2014-09-17  465.864014  456.859985  ...   37919700.0   36863600.0\n",
              "2014-09-18  456.859985  424.102997  ...   36863600.0   26580100.0\n",
              "\n",
              "[2 rows x 34 columns]"
            ]
          },
          "metadata": {
            "tags": []
          },
          "execution_count": 12
        }
      ]
    },
    {
      "cell_type": "code",
      "metadata": {
        "id": "6E6LLYBVRdhl",
        "colab_type": "code",
        "outputId": "5fe121b3-6acb-4a95-fda1-a27eab7647e1",
        "colab": {
          "base_uri": "https://localhost:8080/",
          "height": 390
        }
      },
      "source": [
        "mask = df_processed.columns.str.contains('Open')\n",
        "df_processed[df_processed.columns[mask]].head(10)"
      ],
      "execution_count": 0,
      "outputs": [
        {
          "output_type": "execute_result",
          "data": {
            "text/html": [
              "<div>\n",
              "<style scoped>\n",
              "    .dataframe tbody tr th:only-of-type {\n",
              "        vertical-align: middle;\n",
              "    }\n",
              "\n",
              "    .dataframe tbody tr th {\n",
              "        vertical-align: top;\n",
              "    }\n",
              "\n",
              "    .dataframe thead th {\n",
              "        text-align: right;\n",
              "    }\n",
              "</style>\n",
              "<table border=\"1\" class=\"dataframe\">\n",
              "  <thead>\n",
              "    <tr style=\"text-align: right;\">\n",
              "      <th></th>\n",
              "      <th>Open</th>\n",
              "      <th>Open_lag1</th>\n",
              "      <th>Open_avg_window_length2</th>\n",
              "      <th>Open_lag2</th>\n",
              "      <th>Open_avg_window_length3</th>\n",
              "      <th>Open_lag3</th>\n",
              "      <th>Open_avg_window_length4</th>\n",
              "    </tr>\n",
              "    <tr>\n",
              "      <th>Date</th>\n",
              "      <th></th>\n",
              "      <th></th>\n",
              "      <th></th>\n",
              "      <th></th>\n",
              "      <th></th>\n",
              "      <th></th>\n",
              "      <th></th>\n",
              "    </tr>\n",
              "  </thead>\n",
              "  <tbody>\n",
              "    <tr>\n",
              "      <th>2014-09-17</th>\n",
              "      <td>465.864014</td>\n",
              "      <td>456.859985</td>\n",
              "      <td>440.481491</td>\n",
              "      <td>424.102997</td>\n",
              "      <td>425.211995</td>\n",
              "      <td>394.673004</td>\n",
              "      <td>420.930244</td>\n",
              "    </tr>\n",
              "    <tr>\n",
              "      <th>2014-09-18</th>\n",
              "      <td>456.859985</td>\n",
              "      <td>424.102997</td>\n",
              "      <td>409.388000</td>\n",
              "      <td>394.673004</td>\n",
              "      <td>408.953664</td>\n",
              "      <td>408.084991</td>\n",
              "      <td>406.490249</td>\n",
              "    </tr>\n",
              "    <tr>\n",
              "      <th>2014-09-19</th>\n",
              "      <td>424.102997</td>\n",
              "      <td>394.673004</td>\n",
              "      <td>401.378997</td>\n",
              "      <td>408.084991</td>\n",
              "      <td>400.619334</td>\n",
              "      <td>399.100006</td>\n",
              "      <td>400.987503</td>\n",
              "    </tr>\n",
              "    <tr>\n",
              "      <th>2014-09-20</th>\n",
              "      <td>394.673004</td>\n",
              "      <td>408.084991</td>\n",
              "      <td>403.592499</td>\n",
              "      <td>399.100006</td>\n",
              "      <td>403.092336</td>\n",
              "      <td>402.092010</td>\n",
              "      <td>411.257003</td>\n",
              "    </tr>\n",
              "    <tr>\n",
              "      <th>2014-09-21</th>\n",
              "      <td>408.084991</td>\n",
              "      <td>399.100006</td>\n",
              "      <td>400.596008</td>\n",
              "      <td>402.092010</td>\n",
              "      <td>412.314341</td>\n",
              "      <td>435.751007</td>\n",
              "      <td>415.024757</td>\n",
              "    </tr>\n",
              "    <tr>\n",
              "      <th>2014-09-22</th>\n",
              "      <td>399.100006</td>\n",
              "      <td>402.092010</td>\n",
              "      <td>418.921509</td>\n",
              "      <td>435.751007</td>\n",
              "      <td>420.333008</td>\n",
              "      <td>423.156006</td>\n",
              "      <td>418.107002</td>\n",
              "    </tr>\n",
              "    <tr>\n",
              "      <th>2014-09-23</th>\n",
              "      <td>402.092010</td>\n",
              "      <td>435.751007</td>\n",
              "      <td>429.453507</td>\n",
              "      <td>423.156006</td>\n",
              "      <td>423.445333</td>\n",
              "      <td>411.428986</td>\n",
              "      <td>418.473000</td>\n",
              "    </tr>\n",
              "    <tr>\n",
              "      <th>2014-09-24</th>\n",
              "      <td>435.751007</td>\n",
              "      <td>423.156006</td>\n",
              "      <td>417.292496</td>\n",
              "      <td>411.428986</td>\n",
              "      <td>412.713664</td>\n",
              "      <td>403.556000</td>\n",
              "      <td>409.403000</td>\n",
              "    </tr>\n",
              "    <tr>\n",
              "      <th>2014-09-25</th>\n",
              "      <td>423.156006</td>\n",
              "      <td>411.428986</td>\n",
              "      <td>407.492493</td>\n",
              "      <td>403.556000</td>\n",
              "      <td>404.818665</td>\n",
              "      <td>399.471008</td>\n",
              "      <td>397.846001</td>\n",
              "    </tr>\n",
              "    <tr>\n",
              "      <th>2014-09-26</th>\n",
              "      <td>411.428986</td>\n",
              "      <td>403.556000</td>\n",
              "      <td>401.513504</td>\n",
              "      <td>399.471008</td>\n",
              "      <td>393.318339</td>\n",
              "      <td>376.928009</td>\n",
              "      <td>389.010757</td>\n",
              "    </tr>\n",
              "  </tbody>\n",
              "</table>\n",
              "</div>"
            ],
            "text/plain": [
              "                  Open   Open_lag1  ...   Open_lag3  Open_avg_window_length4\n",
              "Date                                ...                                     \n",
              "2014-09-17  465.864014  456.859985  ...  394.673004               420.930244\n",
              "2014-09-18  456.859985  424.102997  ...  408.084991               406.490249\n",
              "2014-09-19  424.102997  394.673004  ...  399.100006               400.987503\n",
              "2014-09-20  394.673004  408.084991  ...  402.092010               411.257003\n",
              "2014-09-21  408.084991  399.100006  ...  435.751007               415.024757\n",
              "2014-09-22  399.100006  402.092010  ...  423.156006               418.107002\n",
              "2014-09-23  402.092010  435.751007  ...  411.428986               418.473000\n",
              "2014-09-24  435.751007  423.156006  ...  403.556000               409.403000\n",
              "2014-09-25  423.156006  411.428986  ...  399.471008               397.846001\n",
              "2014-09-26  411.428986  403.556000  ...  376.928009               389.010757\n",
              "\n",
              "[10 rows x 7 columns]"
            ]
          },
          "metadata": {
            "tags": []
          },
          "execution_count": 13
        }
      ]
    },
    {
      "cell_type": "code",
      "metadata": {
        "id": "Lt_hTE9rVZf2",
        "colab_type": "code",
        "outputId": "5a152e88-4bbf-4a80-8360-27f29d7292ef",
        "colab": {
          "base_uri": "https://localhost:8080/",
          "height": 464
        }
      },
      "source": [
        "plt.figure(figsize=(15,7))\n",
        "sns.set(style=\"whitegrid\")\n",
        "plt.title('Harga Open Bitcoin per Tahun')\n",
        "sns.lineplot(data=df['Open'], label='Open',color='sandybrown')"
      ],
      "execution_count": 0,
      "outputs": [
        {
          "output_type": "execute_result",
          "data": {
            "text/plain": [
              "<matplotlib.axes._subplots.AxesSubplot at 0x7fd9db68b8d0>"
            ]
          },
          "metadata": {
            "tags": []
          },
          "execution_count": 14
        },
        {
          "output_type": "display_data",
          "data": {
            "image/png": "[encoded data removed]",
            "text/plain": [
              "<Figure size 1080x504 with 1 Axes>"
            ]
          },
          "metadata": {
            "tags": [],
            "needs_background": "light"
          }
        }
      ]
    },
    {
      "cell_type": "code",
      "metadata": {
        "id": "7oTzeuPgRjZX",
        "colab_type": "code",
        "colab": {}
      },
      "source": [
        "df_processed.reset_index(drop=True,inplace=True)\n",
        "df_train = df_processed.loc[:int(df_processed.shape[0]*0.8),:]\n",
        "df_test = df_processed.loc[int(df_processed.shape[0]*0.8):,:]"
      ],
      "execution_count": 0,
      "outputs": []
    },
    {
      "cell_type": "code",
      "metadata": {
        "id": "ha4elY5x48My",
        "colab_type": "code",
        "outputId": "9a940693-fc4b-4ba9-bda0-b4cdb2b7722f",
        "colab": {
          "base_uri": "https://localhost:8080/",
          "height": 241
        }
      },
      "source": [
        "df_test.tail()"
      ],
      "execution_count": 0,
      "outputs": [
        {
          "output_type": "execute_result",
          "data": {
            "text/html": [
              "<div>\n",
              "<style scoped>\n",
              "    .dataframe tbody tr th:only-of-type {\n",
              "        vertical-align: middle;\n",
              "    }\n",
              "\n",
              "    .dataframe tbody tr th {\n",
              "        vertical-align: top;\n",
              "    }\n",
              "\n",
              "    .dataframe thead th {\n",
              "        text-align: right;\n",
              "    }\n",
              "</style>\n",
              "<table border=\"1\" class=\"dataframe\">\n",
              "  <thead>\n",
              "    <tr style=\"text-align: right;\">\n",
              "      <th></th>\n",
              "      <th>Open</th>\n",
              "      <th>Open_lag1</th>\n",
              "      <th>Open_avg_window_length2</th>\n",
              "      <th>Open_lag2</th>\n",
              "      <th>Open_avg_window_length3</th>\n",
              "      <th>Open_lag3</th>\n",
              "      <th>Open_avg_window_length4</th>\n",
              "      <th>High_lag1</th>\n",
              "      <th>High_avg_window_length2</th>\n",
              "      <th>High_lag2</th>\n",
              "      <th>High_avg_window_length3</th>\n",
              "      <th>High_lag3</th>\n",
              "      <th>High_avg_window_length4</th>\n",
              "      <th>Low_lag1</th>\n",
              "      <th>Low_avg_window_length2</th>\n",
              "      <th>Low_lag2</th>\n",
              "      <th>Low_avg_window_length3</th>\n",
              "      <th>Low_lag3</th>\n",
              "      <th>Low_avg_window_length4</th>\n",
              "      <th>Close_lag1</th>\n",
              "      <th>Close_avg_window_length2</th>\n",
              "      <th>Close_lag2</th>\n",
              "      <th>Close_avg_window_length3</th>\n",
              "      <th>Close_lag3</th>\n",
              "      <th>Close_avg_window_length4</th>\n",
              "      <th>Adj Close_lag1</th>\n",
              "      <th>Adj Close_avg_window_length2</th>\n",
              "      <th>Adj Close_lag2</th>\n",
              "      <th>Adj Close_avg_window_length3</th>\n",
              "      <th>Adj Close_lag3</th>\n",
              "      <th>Adj Close_avg_window_length4</th>\n",
              "      <th>Volume_lag1</th>\n",
              "      <th>Volume_lag2</th>\n",
              "      <th>Volume_lag3</th>\n",
              "    </tr>\n",
              "  </thead>\n",
              "  <tbody>\n",
              "    <tr>\n",
              "      <th>2008</th>\n",
              "      <td>5002.578125</td>\n",
              "      <td>5227.113770</td>\n",
              "      <td>5236.265137</td>\n",
              "      <td>5245.416504</td>\n",
              "      <td>5554.728028</td>\n",
              "      <td>6191.653809</td>\n",
              "      <td>5717.676392</td>\n",
              "      <td>5331.833984</td>\n",
              "      <td>5830.784912</td>\n",
              "      <td>6329.735840</td>\n",
              "      <td>6168.610514</td>\n",
              "      <td>6844.261719</td>\n",
              "      <td>6220.991699</td>\n",
              "      <td>5069.335938</td>\n",
              "      <td>5153.152344</td>\n",
              "      <td>5236.968750</td>\n",
              "      <td>5390.695475</td>\n",
              "      <td>5865.781738</td>\n",
              "      <td>5526.227417</td>\n",
              "      <td>5238.438477</td>\n",
              "      <td>5714.815674</td>\n",
              "      <td>6191.192871</td>\n",
              "      <td>5876.136556</td>\n",
              "      <td>6198.778320</td>\n",
              "      <td>5953.369018</td>\n",
              "      <td>5238.438477</td>\n",
              "      <td>5714.815674</td>\n",
              "      <td>6191.192871</td>\n",
              "      <td>5876.136556</td>\n",
              "      <td>6198.778320</td>\n",
              "      <td>5953.369018</td>\n",
              "      <td>3.787880e+10</td>\n",
              "      <td>5.100073e+10</td>\n",
              "      <td>5.444298e+10</td>\n",
              "    </tr>\n",
              "    <tr>\n",
              "      <th>2009</th>\n",
              "      <td>5227.113770</td>\n",
              "      <td>5245.416504</td>\n",
              "      <td>5718.535157</td>\n",
              "      <td>6191.653809</td>\n",
              "      <td>5881.197266</td>\n",
              "      <td>6206.521484</td>\n",
              "      <td>5957.287476</td>\n",
              "      <td>6329.735840</td>\n",
              "      <td>6586.998780</td>\n",
              "      <td>6844.261719</td>\n",
              "      <td>6517.377604</td>\n",
              "      <td>6378.135254</td>\n",
              "      <td>6477.957520</td>\n",
              "      <td>5236.968750</td>\n",
              "      <td>5551.375244</td>\n",
              "      <td>5865.781738</td>\n",
              "      <td>5678.524577</td>\n",
              "      <td>5932.823242</td>\n",
              "      <td>5714.821899</td>\n",
              "      <td>6191.192871</td>\n",
              "      <td>6194.985595</td>\n",
              "      <td>6198.778320</td>\n",
              "      <td>6191.679199</td>\n",
              "      <td>6185.066406</td>\n",
              "      <td>6101.323120</td>\n",
              "      <td>6191.192871</td>\n",
              "      <td>6194.985595</td>\n",
              "      <td>6198.778320</td>\n",
              "      <td>6191.679199</td>\n",
              "      <td>6185.066406</td>\n",
              "      <td>6101.323120</td>\n",
              "      <td>5.100073e+10</td>\n",
              "      <td>5.444298e+10</td>\n",
              "      <td>4.249439e+10</td>\n",
              "    </tr>\n",
              "    <tr>\n",
              "      <th>2010</th>\n",
              "      <td>5245.416504</td>\n",
              "      <td>6191.653809</td>\n",
              "      <td>6199.087647</td>\n",
              "      <td>6206.521484</td>\n",
              "      <td>6194.577799</td>\n",
              "      <td>6185.558105</td>\n",
              "      <td>6103.776978</td>\n",
              "      <td>6844.261719</td>\n",
              "      <td>6611.198487</td>\n",
              "      <td>6378.135254</td>\n",
              "      <td>6527.364746</td>\n",
              "      <td>6359.697266</td>\n",
              "      <td>6506.507202</td>\n",
              "      <td>5865.781738</td>\n",
              "      <td>5899.302490</td>\n",
              "      <td>5932.823242</td>\n",
              "      <td>5874.106282</td>\n",
              "      <td>5823.713867</td>\n",
              "      <td>5851.830811</td>\n",
              "      <td>6198.778320</td>\n",
              "      <td>6191.922363</td>\n",
              "      <td>6185.066406</td>\n",
              "      <td>6071.366536</td>\n",
              "      <td>5830.254883</td>\n",
              "      <td>6157.603637</td>\n",
              "      <td>6198.778320</td>\n",
              "      <td>6191.922363</td>\n",
              "      <td>6185.066406</td>\n",
              "      <td>6071.366536</td>\n",
              "      <td>5830.254883</td>\n",
              "      <td>6157.603637</td>\n",
              "      <td>5.444298e+10</td>\n",
              "      <td>4.249439e+10</td>\n",
              "      <td>4.009966e+10</td>\n",
              "    </tr>\n",
              "    <tr>\n",
              "      <th>2011</th>\n",
              "      <td>6191.653809</td>\n",
              "      <td>6206.521484</td>\n",
              "      <td>6196.039795</td>\n",
              "      <td>6185.558105</td>\n",
              "      <td>6074.484700</td>\n",
              "      <td>5831.374512</td>\n",
              "      <td>6165.024170</td>\n",
              "      <td>6378.135254</td>\n",
              "      <td>6368.916260</td>\n",
              "      <td>6359.697266</td>\n",
              "      <td>6393.922363</td>\n",
              "      <td>6443.934570</td>\n",
              "      <td>6492.697510</td>\n",
              "      <td>5932.823242</td>\n",
              "      <td>5878.268555</td>\n",
              "      <td>5823.713867</td>\n",
              "      <td>5847.180501</td>\n",
              "      <td>5785.004395</td>\n",
              "      <td>5988.151978</td>\n",
              "      <td>6185.066406</td>\n",
              "      <td>6007.660644</td>\n",
              "      <td>5830.254883</td>\n",
              "      <td>6143.878743</td>\n",
              "      <td>6416.314941</td>\n",
              "      <td>6291.609985</td>\n",
              "      <td>6185.066406</td>\n",
              "      <td>6007.660644</td>\n",
              "      <td>5830.254883</td>\n",
              "      <td>6143.878743</td>\n",
              "      <td>6416.314941</td>\n",
              "      <td>6291.609985</td>\n",
              "      <td>4.249439e+10</td>\n",
              "      <td>4.009966e+10</td>\n",
              "      <td>4.649192e+10</td>\n",
              "    </tr>\n",
              "    <tr>\n",
              "      <th>2012</th>\n",
              "      <td>6206.521484</td>\n",
              "      <td>6185.558105</td>\n",
              "      <td>6008.466309</td>\n",
              "      <td>5831.374512</td>\n",
              "      <td>6151.191732</td>\n",
              "      <td>6436.642578</td>\n",
              "      <td>6286.296021</td>\n",
              "      <td>6359.697266</td>\n",
              "      <td>6401.815918</td>\n",
              "      <td>6443.934570</td>\n",
              "      <td>6530.884928</td>\n",
              "      <td>6789.022949</td>\n",
              "      <td>6580.768799</td>\n",
              "      <td>5823.713867</td>\n",
              "      <td>5804.359131</td>\n",
              "      <td>5785.004395</td>\n",
              "      <td>6006.594889</td>\n",
              "      <td>6411.066406</td>\n",
              "      <td>6176.944214</td>\n",
              "      <td>5830.254883</td>\n",
              "      <td>6123.284912</td>\n",
              "      <td>6416.314941</td>\n",
              "      <td>6327.124512</td>\n",
              "      <td>6734.803711</td>\n",
              "      <td>6420.923218</td>\n",
              "      <td>5830.254883</td>\n",
              "      <td>6123.284912</td>\n",
              "      <td>6416.314941</td>\n",
              "      <td>6327.124512</td>\n",
              "      <td>6734.803711</td>\n",
              "      <td>6420.923218</td>\n",
              "      <td>4.009966e+10</td>\n",
              "      <td>4.649192e+10</td>\n",
              "      <td>4.822191e+10</td>\n",
              "    </tr>\n",
              "  </tbody>\n",
              "</table>\n",
              "</div>"
            ],
            "text/plain": [
              "             Open    Open_lag1  ...   Volume_lag2   Volume_lag3\n",
              "2008  5002.578125  5227.113770  ...  5.100073e+10  5.444298e+10\n",
              "2009  5227.113770  5245.416504  ...  5.444298e+10  4.249439e+10\n",
              "2010  5245.416504  6191.653809  ...  4.249439e+10  4.009966e+10\n",
              "2011  6191.653809  6206.521484  ...  4.009966e+10  4.649192e+10\n",
              "2012  6206.521484  6185.558105  ...  4.649192e+10  4.822191e+10\n",
              "\n",
              "[5 rows x 34 columns]"
            ]
          },
          "metadata": {
            "tags": []
          },
          "execution_count": 16
        }
      ]
    },
    {
      "cell_type": "code",
      "metadata": {
        "id": "sxqjya3aOXMM",
        "colab_type": "code",
        "outputId": "43256873-cccd-4127-8ff8-b1552592766f",
        "colab": {
          "base_uri": "https://localhost:8080/",
          "height": 34
        }
      },
      "source": [
        "df_train.shape"
      ],
      "execution_count": 0,
      "outputs": [
        {
          "output_type": "execute_result",
          "data": {
            "text/plain": [
              "(1611, 34)"
            ]
          },
          "metadata": {
            "tags": []
          },
          "execution_count": 17
        }
      ]
    },
    {
      "cell_type": "code",
      "metadata": {
        "id": "QAxmTtaCOP7H",
        "colab_type": "code",
        "outputId": "a5979d8d-f798-4774-ecd2-18b441918a0b",
        "colab": {
          "base_uri": "https://localhost:8080/",
          "height": 34
        }
      },
      "source": [
        "df_test.shape"
      ],
      "execution_count": 0,
      "outputs": [
        {
          "output_type": "execute_result",
          "data": {
            "text/plain": [
              "(403, 34)"
            ]
          },
          "metadata": {
            "tags": []
          },
          "execution_count": 18
        }
      ]
    },
    {
      "cell_type": "code",
      "metadata": {
        "id": "eIs2882SaARc",
        "colab_type": "code",
        "outputId": "7cbe7dcc-92ba-4cc9-ea4a-cabfc4eb173c",
        "colab": {
          "base_uri": "https://localhost:8080/",
          "height": 464
        }
      },
      "source": [
        "plt.figure(figsize=(15,7))\n",
        "sns.set(style=\"whitegrid\")\n",
        "plt.title('Data train vs Data test')\n",
        "sns.lineplot(data=df_train['Open'], label='train',color='limegreen')\n",
        "sns.lineplot(data=df_test['Open'], label='test',color='palevioletred')"
      ],
      "execution_count": 0,
      "outputs": [
        {
          "output_type": "execute_result",
          "data": {
            "text/plain": [
              "<matplotlib.axes._subplots.AxesSubplot at 0x7fd9db57be80>"
            ]
          },
          "metadata": {
            "tags": []
          },
          "execution_count": 19
        },
        {
          "output_type": "display_data",
          "data": {
            "image/png": "[encoded data removed]",
            "text/plain": [
              "<Figure size 1080x504 with 1 Axes>"
            ]
          },
          "metadata": {
            "tags": []
          }
        }
      ]
    },
    {
      "cell_type": "code",
      "metadata": {
        "id": "zZ8WCCoKSIzH",
        "colab_type": "code",
        "colab": {}
      },
      "source": [
        "from h2o.automl import H2OAutoML"
      ],
      "execution_count": 0,
      "outputs": []
    },
    {
      "cell_type": "code",
      "metadata": {
        "id": "eBvxcfRbSK7W",
        "colab_type": "code",
        "outputId": "5e4c170a-ac80-4824-d506-d48e4fe2b03d",
        "colab": {
          "base_uri": "https://localhost:8080/",
          "height": 51
        }
      },
      "source": [
        "hf_train = h2o.H2OFrame(df_train)\n",
        "hf_test = h2o.H2OFrame(df_test)"
      ],
      "execution_count": 0,
      "outputs": [
        {
          "output_type": "stream",
          "text": [
            "Parse progress: |█████████████████████████████████████████████████████████| 100%\n",
            "Parse progress: |█████████████████████████████████████████████████████████| 100%\n"
          ],
          "name": "stdout"
        }
      ]
    },
    {
      "cell_type": "code",
      "metadata": {
        "id": "0YD0SbB7SQI1",
        "colab_type": "code",
        "outputId": "c99165cd-121b-4031-ffb8-521aa55961ab",
        "colab": {
          "base_uri": "https://localhost:8080/",
          "height": 287
        }
      },
      "source": [
        "hf_train.tail()"
      ],
      "execution_count": 0,
      "outputs": [
        {
          "output_type": "display_data",
          "data": {
            "text/html": [
              "<table>\n",
              "<thead>\n",
              "<tr><th style=\"text-align: right;\">   Open</th><th style=\"text-align: right;\">  Open_lag1</th><th style=\"text-align: right;\">  Open_avg_window_length2</th><th style=\"text-align: right;\">  Open_lag2</th><th style=\"text-align: right;\">  Open_avg_window_length3</th><th style=\"text-align: right;\">  Open_lag3</th><th style=\"text-align: right;\">  Open_avg_window_length4</th><th style=\"text-align: right;\">  High_lag1</th><th style=\"text-align: right;\">  High_avg_window_length2</th><th style=\"text-align: right;\">  High_lag2</th><th style=\"text-align: right;\">  High_avg_window_length3</th><th style=\"text-align: right;\">  High_lag3</th><th style=\"text-align: right;\">  High_avg_window_length4</th><th style=\"text-align: right;\">  Low_lag1</th><th style=\"text-align: right;\">  Low_avg_window_length2</th><th style=\"text-align: right;\">  Low_lag2</th><th style=\"text-align: right;\">  Low_avg_window_length3</th><th style=\"text-align: right;\">  Low_lag3</th><th style=\"text-align: right;\">  Low_avg_window_length4</th><th style=\"text-align: right;\">  Close_lag1</th><th style=\"text-align: right;\">  Close_avg_window_length2</th><th style=\"text-align: right;\">  Close_lag2</th><th style=\"text-align: right;\">  Close_avg_window_length3</th><th style=\"text-align: right;\">  Close_lag3</th><th style=\"text-align: right;\">  Close_avg_window_length4</th><th style=\"text-align: right;\">  Adj Close_lag1</th><th style=\"text-align: right;\">  Adj Close_avg_window_length2</th><th style=\"text-align: right;\">  Adj Close_lag2</th><th style=\"text-align: right;\">  Adj Close_avg_window_length3</th><th style=\"text-align: right;\">  Adj Close_lag3</th><th style=\"text-align: right;\">  Adj Close_avg_window_length4</th><th style=\"text-align: right;\">  Volume_lag1</th><th style=\"text-align: right;\">  Volume_lag2</th><th style=\"text-align: right;\">  Volume_lag3</th></tr>\n",
              "</thead>\n",
              "<tbody>\n",
              "<tr><td style=\"text-align: right;\">3467.21</td><td style=\"text-align: right;\">    3454.95</td><td style=\"text-align: right;\">                  3462.02</td><td style=\"text-align: right;\">    3469.09</td><td style=\"text-align: right;\">                  3446.32</td><td style=\"text-align: right;\">    3414.93</td><td style=\"text-align: right;\">                  3435.09</td><td style=\"text-align: right;\">    3478.15</td><td style=\"text-align: right;\">                  3473.62</td><td style=\"text-align: right;\">    3469.09</td><td style=\"text-align: right;\">                  3458.4 </td><td style=\"text-align: right;\">    3427.95</td><td style=\"text-align: right;\">                  3517.7 </td><td style=\"text-align: right;\">   3451.94</td><td style=\"text-align: right;\">                 3425.25</td><td style=\"text-align: right;\">   3398.57</td><td style=\"text-align: right;\">                 3414.91</td><td style=\"text-align: right;\">   3394.22</td><td style=\"text-align: right;\">                 3408.94</td><td style=\"text-align: right;\">     3466.36</td><td style=\"text-align: right;\">                   3440.06</td><td style=\"text-align: right;\">     3413.77</td><td style=\"text-align: right;\">                   3426.53</td><td style=\"text-align: right;\">     3399.47</td><td style=\"text-align: right;\">                   3486.59</td><td style=\"text-align: right;\">         3466.36</td><td style=\"text-align: right;\">                       3440.06</td><td style=\"text-align: right;\">         3413.77</td><td style=\"text-align: right;\">                       3426.53</td><td style=\"text-align: right;\">         3399.47</td><td style=\"text-align: right;\">                       3486.59</td><td style=\"text-align: right;\">  5.22755e+09</td><td style=\"text-align: right;\">  5.4822e+09 </td><td style=\"text-align: right;\">  5.00496e+09</td></tr>\n",
              "<tr><td style=\"text-align: right;\">3454.95</td><td style=\"text-align: right;\">    3469.09</td><td style=\"text-align: right;\">                  3442.01</td><td style=\"text-align: right;\">    3414.93</td><td style=\"text-align: right;\">                  3428.47</td><td style=\"text-align: right;\">    3401.38</td><td style=\"text-align: right;\">                  3489.25</td><td style=\"text-align: right;\">    3469.09</td><td style=\"text-align: right;\">                  3448.52</td><td style=\"text-align: right;\">    3427.95</td><td style=\"text-align: right;\">                  3530.88</td><td style=\"text-align: right;\">    3695.61</td><td style=\"text-align: right;\">                  3568.15</td><td style=\"text-align: right;\">   3398.57</td><td style=\"text-align: right;\">                 3396.39</td><td style=\"text-align: right;\">   3394.22</td><td style=\"text-align: right;\">                 3394.6 </td><td style=\"text-align: right;\">   3391.02</td><td style=\"text-align: right;\">                 3457.59</td><td style=\"text-align: right;\">     3413.77</td><td style=\"text-align: right;\">                   3406.62</td><td style=\"text-align: right;\">     3399.47</td><td style=\"text-align: right;\">                   3493.34</td><td style=\"text-align: right;\">     3666.78</td><td style=\"text-align: right;\">                   3537.81</td><td style=\"text-align: right;\">         3413.77</td><td style=\"text-align: right;\">                       3406.62</td><td style=\"text-align: right;\">         3399.47</td><td style=\"text-align: right;\">                       3493.34</td><td style=\"text-align: right;\">         3666.78</td><td style=\"text-align: right;\">                       3537.81</td><td style=\"text-align: right;\">  5.4822e+09 </td><td style=\"text-align: right;\">  5.00496e+09</td><td style=\"text-align: right;\">  7.73562e+09</td></tr>\n",
              "<tr><td style=\"text-align: right;\">3469.09</td><td style=\"text-align: right;\">    3414.93</td><td style=\"text-align: right;\">                  3408.15</td><td style=\"text-align: right;\">    3401.38</td><td style=\"text-align: right;\">                  3495.96</td><td style=\"text-align: right;\">    3671.59</td><td style=\"text-align: right;\">                  3540.27</td><td style=\"text-align: right;\">    3427.95</td><td style=\"text-align: right;\">                  3561.78</td><td style=\"text-align: right;\">    3695.61</td><td style=\"text-align: right;\">                  3601.17</td><td style=\"text-align: right;\">    3679.94</td><td style=\"text-align: right;\">                  3624.63</td><td style=\"text-align: right;\">   3394.22</td><td style=\"text-align: right;\">                 3392.62</td><td style=\"text-align: right;\">   3391.02</td><td style=\"text-align: right;\">                 3477.27</td><td style=\"text-align: right;\">   3646.56</td><td style=\"text-align: right;\">                 3518.2 </td><td style=\"text-align: right;\">     3399.47</td><td style=\"text-align: right;\">                   3533.13</td><td style=\"text-align: right;\">     3666.78</td><td style=\"text-align: right;\">                   3579.15</td><td style=\"text-align: right;\">     3671.2 </td><td style=\"text-align: right;\">                   3606.91</td><td style=\"text-align: right;\">         3399.47</td><td style=\"text-align: right;\">                       3533.13</td><td style=\"text-align: right;\">         3666.78</td><td style=\"text-align: right;\">                       3579.15</td><td style=\"text-align: right;\">         3671.2 </td><td style=\"text-align: right;\">                       3606.91</td><td style=\"text-align: right;\">  5.00496e+09</td><td style=\"text-align: right;\">  7.73562e+09</td><td style=\"text-align: right;\">  6.15883e+09</td></tr>\n",
              "<tr><td style=\"text-align: right;\">3414.93</td><td style=\"text-align: right;\">    3401.38</td><td style=\"text-align: right;\">                  3536.48</td><td style=\"text-align: right;\">    3671.59</td><td style=\"text-align: right;\">                  3582.05</td><td style=\"text-align: right;\">    3673.2 </td><td style=\"text-align: right;\">                  3610.44</td><td style=\"text-align: right;\">    3695.61</td><td style=\"text-align: right;\">                  3687.78</td><td style=\"text-align: right;\">    3679.94</td><td style=\"text-align: right;\">                  3690.2 </td><td style=\"text-align: right;\">    3695.04</td><td style=\"text-align: right;\">                  3691.55</td><td style=\"text-align: right;\">   3391.02</td><td style=\"text-align: right;\">                 3518.79</td><td style=\"text-align: right;\">   3646.56</td><td style=\"text-align: right;\">                 3559.52</td><td style=\"text-align: right;\">   3640.98</td><td style=\"text-align: right;\">                 3580.21</td><td style=\"text-align: right;\">     3666.78</td><td style=\"text-align: right;\">                   3668.99</td><td style=\"text-align: right;\">     3671.2 </td><td style=\"text-align: right;\">                   3676.06</td><td style=\"text-align: right;\">     3690.19</td><td style=\"text-align: right;\">                   3669.15</td><td style=\"text-align: right;\">         3666.78</td><td style=\"text-align: right;\">                       3668.99</td><td style=\"text-align: right;\">         3671.2 </td><td style=\"text-align: right;\">                       3676.06</td><td style=\"text-align: right;\">         3690.19</td><td style=\"text-align: right;\">                       3669.15</td><td style=\"text-align: right;\">  7.73562e+09</td><td style=\"text-align: right;\">  6.15883e+09</td><td style=\"text-align: right;\">  6.28226e+09</td></tr>\n",
              "<tr><td style=\"text-align: right;\">3401.38</td><td style=\"text-align: right;\">    3671.59</td><td style=\"text-align: right;\">                  3672.39</td><td style=\"text-align: right;\">    3673.2 </td><td style=\"text-align: right;\">                  3680.13</td><td style=\"text-align: right;\">    3695.61</td><td style=\"text-align: right;\">                  3670.79</td><td style=\"text-align: right;\">    3679.94</td><td style=\"text-align: right;\">                  3687.49</td><td style=\"text-align: right;\">    3695.04</td><td style=\"text-align: right;\">                  3690.2 </td><td style=\"text-align: right;\">    3695.61</td><td style=\"text-align: right;\">                  3684.79</td><td style=\"text-align: right;\">   3646.56</td><td style=\"text-align: right;\">                 3643.77</td><td style=\"text-align: right;\">   3640.98</td><td style=\"text-align: right;\">                 3643.28</td><td style=\"text-align: right;\">   3642.29</td><td style=\"text-align: right;\">                 3637.1 </td><td style=\"text-align: right;\">     3671.2 </td><td style=\"text-align: right;\">                   3680.7 </td><td style=\"text-align: right;\">     3690.19</td><td style=\"text-align: right;\">                   3669.94</td><td style=\"text-align: right;\">     3648.43</td><td style=\"text-align: right;\">                   3665.84</td><td style=\"text-align: right;\">         3671.2 </td><td style=\"text-align: right;\">                       3680.7 </td><td style=\"text-align: right;\">         3690.19</td><td style=\"text-align: right;\">                       3669.94</td><td style=\"text-align: right;\">         3648.43</td><td style=\"text-align: right;\">                       3665.84</td><td style=\"text-align: right;\">  6.15883e+09</td><td style=\"text-align: right;\">  6.28226e+09</td><td style=\"text-align: right;\">  6.27706e+09</td></tr>\n",
              "<tr><td style=\"text-align: right;\">3671.59</td><td style=\"text-align: right;\">    3673.2 </td><td style=\"text-align: right;\">                  3684.41</td><td style=\"text-align: right;\">    3695.61</td><td style=\"text-align: right;\">                  3670.52</td><td style=\"text-align: right;\">    3642.75</td><td style=\"text-align: right;\">                  3666.29</td><td style=\"text-align: right;\">    3695.04</td><td style=\"text-align: right;\">                  3695.32</td><td style=\"text-align: right;\">    3695.61</td><td style=\"text-align: right;\">                  3686.41</td><td style=\"text-align: right;\">    3668.59</td><td style=\"text-align: right;\">                  3682.25</td><td style=\"text-align: right;\">   3640.98</td><td style=\"text-align: right;\">                 3641.63</td><td style=\"text-align: right;\">   3642.29</td><td style=\"text-align: right;\">                 3633.94</td><td style=\"text-align: right;\">   3618.56</td><td style=\"text-align: right;\">                 3629.77</td><td style=\"text-align: right;\">     3690.19</td><td style=\"text-align: right;\">                   3669.31</td><td style=\"text-align: right;\">     3648.43</td><td style=\"text-align: right;\">                   3664.05</td><td style=\"text-align: right;\">     3653.53</td><td style=\"text-align: right;\">                   3656.05</td><td style=\"text-align: right;\">         3690.19</td><td style=\"text-align: right;\">                       3669.31</td><td style=\"text-align: right;\">         3648.43</td><td style=\"text-align: right;\">                       3664.05</td><td style=\"text-align: right;\">         3653.53</td><td style=\"text-align: right;\">                       3656.05</td><td style=\"text-align: right;\">  6.28226e+09</td><td style=\"text-align: right;\">  6.27706e+09</td><td style=\"text-align: right;\">  6.48038e+09</td></tr>\n",
              "<tr><td style=\"text-align: right;\">3673.2 </td><td style=\"text-align: right;\">    3695.61</td><td style=\"text-align: right;\">                  3669.18</td><td style=\"text-align: right;\">    3642.75</td><td style=\"text-align: right;\">                  3663.99</td><td style=\"text-align: right;\">    3653.6 </td><td style=\"text-align: right;\">                  3655.78</td><td style=\"text-align: right;\">    3695.61</td><td style=\"text-align: right;\">                  3682.1 </td><td style=\"text-align: right;\">    3668.59</td><td style=\"text-align: right;\">                  3677.98</td><td style=\"text-align: right;\">    3669.75</td><td style=\"text-align: right;\">                  3670.05</td><td style=\"text-align: right;\">   3642.29</td><td style=\"text-align: right;\">                 3630.42</td><td style=\"text-align: right;\">   3618.56</td><td style=\"text-align: right;\">                 3626.03</td><td style=\"text-align: right;\">   3617.25</td><td style=\"text-align: right;\">                 3621.45</td><td style=\"text-align: right;\">     3648.43</td><td style=\"text-align: right;\">                   3650.98</td><td style=\"text-align: right;\">     3653.53</td><td style=\"text-align: right;\">                   3644.68</td><td style=\"text-align: right;\">     3632.07</td><td style=\"text-align: right;\">                   3637.73</td><td style=\"text-align: right;\">         3648.43</td><td style=\"text-align: right;\">                       3650.98</td><td style=\"text-align: right;\">         3653.53</td><td style=\"text-align: right;\">                       3644.68</td><td style=\"text-align: right;\">         3632.07</td><td style=\"text-align: right;\">                       3637.73</td><td style=\"text-align: right;\">  6.27706e+09</td><td style=\"text-align: right;\">  6.48038e+09</td><td style=\"text-align: right;\">  6.4389e+09 </td></tr>\n",
              "<tr><td style=\"text-align: right;\">3695.61</td><td style=\"text-align: right;\">    3642.75</td><td style=\"text-align: right;\">                  3648.18</td><td style=\"text-align: right;\">    3653.6 </td><td style=\"text-align: right;\">                  3642.51</td><td style=\"text-align: right;\">    3631.17</td><td style=\"text-align: right;\">                  3636.22</td><td style=\"text-align: right;\">    3668.59</td><td style=\"text-align: right;\">                  3669.17</td><td style=\"text-align: right;\">    3669.75</td><td style=\"text-align: right;\">                  3661.53</td><td style=\"text-align: right;\">    3646.26</td><td style=\"text-align: right;\">                  3658.1 </td><td style=\"text-align: right;\">   3618.56</td><td style=\"text-align: right;\">                 3617.9 </td><td style=\"text-align: right;\">   3617.25</td><td style=\"text-align: right;\">                 3614.5 </td><td style=\"text-align: right;\">   3607.7 </td><td style=\"text-align: right;\">                 3612.93</td><td style=\"text-align: right;\">     3653.53</td><td style=\"text-align: right;\">                   3642.8 </td><td style=\"text-align: right;\">     3632.07</td><td style=\"text-align: right;\">                   3634.16</td><td style=\"text-align: right;\">     3616.88</td><td style=\"text-align: right;\">                   3630.82</td><td style=\"text-align: right;\">         3653.53</td><td style=\"text-align: right;\">                       3642.8 </td><td style=\"text-align: right;\">         3632.07</td><td style=\"text-align: right;\">                       3634.16</td><td style=\"text-align: right;\">         3616.88</td><td style=\"text-align: right;\">                       3630.82</td><td style=\"text-align: right;\">  6.48038e+09</td><td style=\"text-align: right;\">  6.4389e+09 </td><td style=\"text-align: right;\">  6.27104e+09</td></tr>\n",
              "<tr><td style=\"text-align: right;\">3642.75</td><td style=\"text-align: right;\">    3653.6 </td><td style=\"text-align: right;\">                  3642.39</td><td style=\"text-align: right;\">    3631.17</td><td style=\"text-align: right;\">                  3634.05</td><td style=\"text-align: right;\">    3617.37</td><td style=\"text-align: right;\">                  3629.35</td><td style=\"text-align: right;\">    3669.75</td><td style=\"text-align: right;\">                  3658   </td><td style=\"text-align: right;\">    3646.26</td><td style=\"text-align: right;\">                  3654.6 </td><td style=\"text-align: right;\">    3647.8 </td><td style=\"text-align: right;\">                  3654.16</td><td style=\"text-align: right;\">   3617.25</td><td style=\"text-align: right;\">                 3612.47</td><td style=\"text-align: right;\">   3607.7 </td><td style=\"text-align: right;\">                 3611.05</td><td style=\"text-align: right;\">   3608.21</td><td style=\"text-align: right;\">                 3612.11</td><td style=\"text-align: right;\">     3632.07</td><td style=\"text-align: right;\">                   3624.48</td><td style=\"text-align: right;\">     3616.88</td><td style=\"text-align: right;\">                   3623.25</td><td style=\"text-align: right;\">     3620.81</td><td style=\"text-align: right;\">                   3624.89</td><td style=\"text-align: right;\">         3632.07</td><td style=\"text-align: right;\">                       3624.48</td><td style=\"text-align: right;\">         3616.88</td><td style=\"text-align: right;\">                       3623.25</td><td style=\"text-align: right;\">         3620.81</td><td style=\"text-align: right;\">                       3624.89</td><td style=\"text-align: right;\">  6.4389e+09 </td><td style=\"text-align: right;\">  6.27104e+09</td><td style=\"text-align: right;\">  6.09195e+09</td></tr>\n",
              "<tr><td style=\"text-align: right;\">3653.6 </td><td style=\"text-align: right;\">    3631.17</td><td style=\"text-align: right;\">                  3624.27</td><td style=\"text-align: right;\">    3617.37</td><td style=\"text-align: right;\">                  3621.27</td><td style=\"text-align: right;\">    3615.27</td><td style=\"text-align: right;\">                  3624.29</td><td style=\"text-align: right;\">    3646.26</td><td style=\"text-align: right;\">                  3647.03</td><td style=\"text-align: right;\">    3647.8 </td><td style=\"text-align: right;\">                  3648.96</td><td style=\"text-align: right;\">    3652.84</td><td style=\"text-align: right;\">                  3656.86</td><td style=\"text-align: right;\">   3607.7 </td><td style=\"text-align: right;\">                 3607.95</td><td style=\"text-align: right;\">   3608.21</td><td style=\"text-align: right;\">                 3610.39</td><td style=\"text-align: right;\">   3615.27</td><td style=\"text-align: right;\">                 3612.59</td><td style=\"text-align: right;\">     3616.88</td><td style=\"text-align: right;\">                   3618.85</td><td style=\"text-align: right;\">     3620.81</td><td style=\"text-align: right;\">                   3622.49</td><td style=\"text-align: right;\">     3629.79</td><td style=\"text-align: right;\">                   3635.33</td><td style=\"text-align: right;\">         3616.88</td><td style=\"text-align: right;\">                       3618.85</td><td style=\"text-align: right;\">         3620.81</td><td style=\"text-align: right;\">                       3622.49</td><td style=\"text-align: right;\">         3629.79</td><td style=\"text-align: right;\">                       3635.33</td><td style=\"text-align: right;\">  6.27104e+09</td><td style=\"text-align: right;\">  6.09195e+09</td><td style=\"text-align: right;\">  5.93474e+09</td></tr>\n",
              "</tbody>\n",
              "</table>"
            ]
          },
          "metadata": {
            "tags": []
          }
        },
        {
          "output_type": "execute_result",
          "data": {
            "text/plain": [
              ""
            ]
          },
          "metadata": {
            "tags": []
          },
          "execution_count": 22
        }
      ]
    },
    {
      "cell_type": "code",
      "metadata": {
        "id": "MzzOKF8TSPww",
        "colab_type": "code",
        "outputId": "49a5cad2-0cbc-4397-f764-2d1a11e254a5",
        "colab": {
          "base_uri": "https://localhost:8080/",
          "height": 502
        }
      },
      "source": [
        "hf_train.describe()"
      ],
      "execution_count": 0,
      "outputs": [
        {
          "output_type": "stream",
          "text": [
            "Rows:1611\n",
            "Cols:34\n",
            "\n",
            "\n"
          ],
          "name": "stdout"
        },
        {
          "output_type": "display_data",
          "data": {
            "text/html": [
              "<table>\n",
              "<thead>\n",
              "<tr><th>       </th><th>Open              </th><th>Open_lag1         </th><th>Open_avg_window_length2  </th><th>Open_lag2         </th><th>Open_avg_window_length3  </th><th>Open_lag3         </th><th>Open_avg_window_length4  </th><th>High_lag1         </th><th>High_avg_window_length2  </th><th>High_lag2         </th><th>High_avg_window_length3  </th><th>High_lag3         </th><th>High_avg_window_length4  </th><th>Low_lag1          </th><th>Low_avg_window_length2  </th><th>Low_lag2          </th><th>Low_avg_window_length3  </th><th>Low_lag3         </th><th>Low_avg_window_length4  </th><th>Close_lag1        </th><th>Close_avg_window_length2  </th><th>Close_lag2        </th><th>Close_avg_window_length3  </th><th>Close_lag3        </th><th>Close_avg_window_length4  </th><th>Adj Close_lag1    </th><th>Adj Close_avg_window_length2  </th><th>Adj Close_lag2    </th><th>Adj Close_avg_window_length3  </th><th>Adj Close_lag3    </th><th>Adj Close_avg_window_length4  </th><th>Volume_lag1      </th><th>Volume_lag2       </th><th>Volume_lag3       </th></tr>\n",
              "</thead>\n",
              "<tbody>\n",
              "<tr><td>type   </td><td>real              </td><td>real              </td><td>real                     </td><td>real              </td><td>real                     </td><td>real              </td><td>real                     </td><td>real              </td><td>real                     </td><td>real              </td><td>real                     </td><td>real              </td><td>real                     </td><td>real              </td><td>real                    </td><td>real              </td><td>real                    </td><td>real             </td><td>real                    </td><td>real              </td><td>real                      </td><td>real              </td><td>real                      </td><td>real              </td><td>real                      </td><td>real              </td><td>real                          </td><td>real              </td><td>real                          </td><td>real              </td><td>real                          </td><td>int              </td><td>int               </td><td>int               </td></tr>\n",
              "<tr><td>mins   </td><td>176.897003        </td><td>176.897003        </td><td>192.9835049999994        </td><td>176.897003        </td><td>197.93366999999975       </td><td>176.897003        </td><td>198.46275325             </td><td>211.731003        </td><td>215.21300500000007       </td><td>211.731003        </td><td>215.7180023333337        </td><td>211.731003        </td><td>215.59875099999948       </td><td>171.509995        </td><td>174.2034990000002       </td><td>171.509995        </td><td>182.72599799999983      </td><td>171.509995       </td><td>185.76324850000012      </td><td>178.102997        </td><td>193.97349550000007        </td><td>178.102997        </td><td>198.6813303333332         </td><td>178.102997        </td><td>198.8259964999997         </td><td>178.102997        </td><td>193.97349550000007            </td><td>178.102997        </td><td>198.6813303333332             </td><td>178.102997        </td><td>198.8259964999997             </td><td>5914570.0        </td><td>5914570.0         </td><td>5914570.0         </td></tr>\n",
              "<tr><td>mean   </td><td>2936.230921960276 </td><td>2938.1957302482892</td><td>2939.1766453392283       </td><td>2940.1575604301697</td><td>2940.163904076763        </td><td>2942.1384215518333</td><td>2941.1601228885797       </td><td>3024.718182348235 </td><td>3025.7085408774064       </td><td>3026.698899406583 </td><td>3026.70594909352         </td><td>3028.7007655257635</td><td>3027.7101220662644       </td><td>2840.8482077889535</td><td>2841.839859725327       </td><td>2842.831511661697 </td><td>2842.838885076141       </td><td>2844.836935777782</td><td>2843.8395304537553      </td><td>2939.936862126008 </td><td>2940.928907684356         </td><td>2941.920953242706 </td><td>2941.9289443080884        </td><td>2943.9290175555548</td><td>2942.935624970982         </td><td>2939.936862126008 </td><td>2940.928907684356             </td><td>2941.920953242706 </td><td>2941.9289443080884            </td><td>2943.9290175555548</td><td>2942.935624970982             </td><td>2097354589.464308</td><td>2101114657.1427689</td><td>2104775007.4537551</td></tr>\n",
              "<tr><td>maxs   </td><td>19475.800781      </td><td>19475.800781      </td><td>19291.100586             </td><td>19475.800781      </td><td>19233.500650999995       </td><td>19475.800781      </td><td>18865.2006835            </td><td>20089.0           </td><td>19902.84960950001        </td><td>20089.0           </td><td>19725.566406333324       </td><td>20089.0           </td><td>19588.625000000004       </td><td>18974.099609      </td><td>18665.0                 </td><td>18974.099609      </td><td>18281.766927            </td><td>18974.099609     </td><td>18030.175293000004      </td><td>19497.400391      </td><td>19319.100585999993        </td><td>19497.400391      </td><td>19250.80013033333         </td><td>19497.400391      </td><td>18882.2749025             </td><td>19497.400391      </td><td>19319.100585999993            </td><td>19497.400391      </td><td>19250.80013033333             </td><td>19497.400391      </td><td>18882.2749025                 </td><td>23840899072.0    </td><td>23840899072.0     </td><td>23840899072.0     </td></tr>\n",
              "<tr><td>sigma  </td><td>3681.5687045802856</td><td>3681.0940930644706</td><td>3678.464016428678        </td><td>3680.613011026992 </td><td>3676.2006510346023       </td><td>3680.116750258844 </td><td>3674.0580014044317       </td><td>3817.4782098328624</td><td>3815.375070329696        </td><td>3816.9728192590583</td><td>3813.262284378722        </td><td>3816.4546264566097</td><td>3811.1836069501514       </td><td>3513.5635060147642</td><td>3510.844405162594       </td><td>3513.0940038327244</td><td>3508.5626228257643      </td><td>3512.611918477176</td><td>3506.3854229017165      </td><td>3680.3611438316557</td><td>3677.7079612682796        </td><td>3679.8657434744205</td><td>3675.4210805756693        </td><td>3679.3575561423136</td><td>3673.262400775335         </td><td>3680.3611438316557</td><td>3677.7079612682796            </td><td>3679.8657434744205</td><td>3675.4210805756693            </td><td>3679.3575561423136</td><td>3673.262400775335             </td><td>3389584347.137138</td><td>3390654189.437326 </td><td>3391608300.0846634</td></tr>\n",
              "<tr><td>zeros  </td><td>0                 </td><td>0                 </td><td>0                        </td><td>0                 </td><td>0                        </td><td>0                 </td><td>0                        </td><td>0                 </td><td>0                        </td><td>0                 </td><td>0                        </td><td>0                 </td><td>0                        </td><td>0                 </td><td>0                       </td><td>0                 </td><td>0                       </td><td>0                </td><td>0                       </td><td>0                 </td><td>0                         </td><td>0                 </td><td>0                         </td><td>0                 </td><td>0                         </td><td>0                 </td><td>0                             </td><td>0                 </td><td>0                             </td><td>0                 </td><td>0                             </td><td>0                </td><td>0                 </td><td>0                 </td></tr>\n",
              "<tr><td>missing</td><td>0                 </td><td>0                 </td><td>0                        </td><td>0                 </td><td>0                        </td><td>0                 </td><td>0                        </td><td>0                 </td><td>0                        </td><td>0                 </td><td>0                        </td><td>0                 </td><td>0                        </td><td>0                 </td><td>0                       </td><td>0                 </td><td>0                       </td><td>0                </td><td>0                       </td><td>0                 </td><td>0                         </td><td>0                 </td><td>0                         </td><td>0                 </td><td>0                         </td><td>0                 </td><td>0                             </td><td>0                 </td><td>0                             </td><td>0                 </td><td>0                             </td><td>0                </td><td>0                 </td><td>0                 </td></tr>\n",
              "<tr><td>0      </td><td>465.86401399999994</td><td>456.85998499999994</td><td>440.4814909999999        </td><td>424.102997        </td><td>425.2119953333333        </td><td>394.673004        </td><td>420.93024424999993       </td><td>456.85998499999994</td><td>442.347488               </td><td>427.834991        </td><td>435.9969886666667        </td><td>423.29599         </td><td>430.10424025             </td><td>413.104004        </td><td>398.8180085             </td><td>384.532013        </td><td>395.839671              </td><td>389.882996       </td><td>395.17500325            </td><td>424.44000199999994</td><td>409.61799599999995        </td><td>394.79599         </td><td>409.3799946666666         </td><td>408.903992        </td><td>406.7402495               </td><td>424.44000199999994</td><td>409.61799599999995            </td><td>394.79599         </td><td>409.3799946666666             </td><td>408.903992        </td><td>406.7402495                   </td><td>34483200.0       </td><td>37919700.0        </td><td>36863600.0        </td></tr>\n",
              "<tr><td>1      </td><td>456.85998499999994</td><td>424.102997        </td><td>409.3880004999999        </td><td>394.673004        </td><td>408.95366399999995       </td><td>408.084991        </td><td>406.4902494999999        </td><td>427.834991        </td><td>425.56549050000007       </td><td>423.29599         </td><td>421.1856586666668        </td><td>412.425995        </td><td>417.61824025             </td><td>384.532013        </td><td>387.2075045             </td><td>389.882996        </td><td>389.1986696666667       </td><td>393.181          </td><td>391.1815035             </td><td>394.79599         </td><td>401.849991                </td><td>408.903992        </td><td>400.8403320000001         </td><td>398.821014        </td><td>401.16825100000005        </td><td>394.79599         </td><td>401.849991                    </td><td>408.903992        </td><td>400.8403320000001             </td><td>398.821014        </td><td>401.16825100000005            </td><td>37919700.0       </td><td>36863600.0        </td><td>26580100.0        </td></tr>\n",
              "<tr><td>2      </td><td>424.102997        </td><td>394.673004        </td><td>401.3789975              </td><td>408.084991        </td><td>400.6193336666667        </td><td>399.100006        </td><td>400.9875027499999        </td><td>423.29599         </td><td>417.86099250000007       </td><td>412.425995        </td><td>414.2126566666668        </td><td>406.915985        </td><td>421.04874425             </td><td>389.882996        </td><td>391.531998              </td><td>393.181           </td><td>393.39800033333336      </td><td>397.130005       </td><td>394.097748              </td><td>408.903992        </td><td>403.86250299999995        </td><td>398.821014        </td><td>403.292338                </td><td>402.152008        </td><td>411.41699975000006        </td><td>408.903992        </td><td>403.86250299999995            </td><td>398.821014        </td><td>403.292338                    </td><td>402.152008        </td><td>411.41699975000006            </td><td>36863600.0       </td><td>26580100.0        </td><td>24127600.0        </td></tr>\n",
              "<tr><td>3      </td><td>394.673004        </td><td>408.084991        </td><td>403.5924985              </td><td>399.100006        </td><td>403.0923356666667        </td><td>402.09201         </td><td>411.25700349999994       </td><td>412.425995        </td><td>409.6709900000001        </td><td>406.915985        </td><td>420.2996623333335        </td><td>441.55700700000006</td><td>424.2527467499999        </td><td>393.181           </td><td>395.1555025             </td><td>397.130005        </td><td>395.50266533333337      </td><td>396.196991       </td><td>401.90999625            </td><td>398.821014        </td><td>400.4865109999999         </td><td>402.152008        </td><td>412.2546690000001         </td><td>435.790985        </td><td>414.9922485000001         </td><td>398.821014        </td><td>400.4865109999999             </td><td>402.152008        </td><td>412.2546690000001             </td><td>435.790985        </td><td>414.9922485000001             </td><td>26580100.0       </td><td>24127600.0        </td><td>45099500.0        </td></tr>\n",
              "<tr><td>4      </td><td>408.084991        </td><td>399.100006        </td><td>400.5960080000001        </td><td>402.09201         </td><td>412.31434100000007       </td><td>435.751007        </td><td>415.02475724999994       </td><td>406.915985        </td><td>424.2364960000001        </td><td>441.55700700000006</td><td>428.1949973333335        </td><td>436.112           </td><td>427.0262452499999        </td><td>397.130005        </td><td>396.663498              </td><td>396.196991        </td><td>404.81966166666666      </td><td>421.131989       </td><td>405.981743              </td><td>402.152008        </td><td>418.9714964999999         </td><td>435.790985        </td><td>420.38266                 </td><td>423.204987        </td><td>418.18049625              </td><td>402.152008        </td><td>418.9714964999999             </td><td>435.790985        </td><td>420.38266                     </td><td>423.204987        </td><td>418.18049625                  </td><td>24127600.0       </td><td>45099500.0        </td><td>30627700.0        </td></tr>\n",
              "<tr><td>5      </td><td>399.100006        </td><td>402.09201         </td><td>418.9215085000002        </td><td>435.751007        </td><td>420.3330076666668        </td><td>423.15600599999993</td><td>418.10700224999994       </td><td>441.55700700000006</td><td>438.8345035000001        </td><td>436.112           </td><td>433.72966533333346       </td><td>423.5199889999999 </td><td>429.0317459999999        </td><td>396.196991        </td><td>408.66449               </td><td>421.131989        </td><td>408.93232233333333      </td><td>409.467987       </td><td>406.7014925             </td><td>435.790985        </td><td>429.49798599999986        </td><td>423.204987        </td><td>423.5233256666667         </td><td>411.574005        </td><td>418.74874125              </td><td>435.790985        </td><td>429.49798599999986            </td><td>423.204987        </td><td>423.5233256666667             </td><td>411.574005        </td><td>418.74874125                  </td><td>45099500.0       </td><td>30627700.0        </td><td>26814400.0        </td></tr>\n",
              "<tr><td>6      </td><td>402.09201         </td><td>435.751007        </td><td>429.4535065000001        </td><td>423.15600599999993</td><td>423.44533300000006       </td><td>411.428986        </td><td>418.47299974999993       </td><td>436.112           </td><td>429.8159945              </td><td>423.5199889999999 </td><td>424.856659               </td><td>414.937988        </td><td>420.2982407499998        </td><td>421.131989        </td><td>415.299988              </td><td>409.467987        </td><td>410.20299299999994      </td><td>400.009003       </td><td>406.9952469999999       </td><td>423.204987        </td><td>417.38949599999984        </td><td>411.574005        </td><td>413.0679933333334         </td><td>404.424988        </td><td>409.6809922499999         </td><td>423.204987        </td><td>417.38949599999984            </td><td>411.574005        </td><td>413.0679933333334             </td><td>404.424988        </td><td>409.6809922499999             </td><td>30627700.0       </td><td>26814400.0        </td><td>21460800.0        </td></tr>\n",
              "<tr><td>7      </td><td>435.751007        </td><td>423.15600599999993</td><td>417.29249600000014       </td><td>411.428986        </td><td>412.7136640000001        </td><td>403.556           </td><td>409.403                  </td><td>423.5199889999999 </td><td>419.2289884999999        </td><td>414.937988        </td><td>415.0269876666666        </td><td>406.622986        </td><td>411.52449024999976       </td><td>409.467987        </td><td>404.73849500000006      </td><td>400.009003        </td><td>402.2829996666666       </td><td>397.372009       </td><td>395.2952499999999       </td><td>411.574005        </td><td>407.99949649999985        </td><td>404.424988        </td><td>405.172994                </td><td>399.519989        </td><td>398.1749954999999         </td><td>411.574005        </td><td>407.99949649999985            </td><td>404.424988        </td><td>405.172994                    </td><td>399.519989        </td><td>398.1749954999999             </td><td>26814400.0       </td><td>21460800.0        </td><td>15029300.0        </td></tr>\n",
              "<tr><td>8      </td><td>423.15600599999993</td><td>411.428986        </td><td>407.4924930000002        </td><td>403.556           </td><td>404.81866466666673       </td><td>399.471008        </td><td>397.84600075             </td><td>414.937988        </td><td>410.780487               </td><td>406.622986        </td><td>407.5259906666667        </td><td>401.016998        </td><td>401.94724274999976       </td><td>400.009003        </td><td>398.690506              </td><td>397.372009        </td><td>390.5710043333333       </td><td>374.332001       </td><td>385.98825075            </td><td>404.424988        </td><td>401.9724884999998         </td><td>399.519989        </td><td>393.70865900000007        </td><td>377.181           </td><td>389.14824674999994        </td><td>404.424988        </td><td>401.9724884999998             </td><td>399.519989        </td><td>393.70865900000007            </td><td>377.181           </td><td>389.14824674999994            </td><td>21460800.0       </td><td>15029300.0        </td><td>23613300.0        </td></tr>\n",
              "<tr><td>9      </td><td>411.428986        </td><td>403.556           </td><td>401.5135040000002        </td><td>399.471008        </td><td>393.3183390000001        </td><td>376.928009        </td><td>389.0107574999999        </td><td>406.622986        </td><td>403.81999200000007       </td><td>401.016998        </td><td>397.61699433333337       </td><td>385.210999        </td><td>395.9569932499998        </td><td>397.372009        </td><td>385.852005              </td><td>374.332001        </td><td>381.31466666666665      </td><td>372.23999        </td><td>379.3467482499999       </td><td>399.519989        </td><td>388.35049449999985        </td><td>377.181           </td><td>384.0559996666667         </td><td>375.46701         </td><td>384.77799974999994        </td><td>399.519989        </td><td>388.35049449999985            </td><td>377.181           </td><td>384.0559996666667             </td><td>375.46701         </td><td>384.77799974999994            </td><td>15029300.0       </td><td>23613300.0        </td><td>32497700.0        </td></tr>\n",
              "</tbody>\n",
              "</table>"
            ]
          },
          "metadata": {
            "tags": []
          }
        }
      ]
    },
    {
      "cell_type": "code",
      "metadata": {
        "id": "AArl9X4USUJP",
        "colab_type": "code",
        "colab": {}
      },
      "source": [
        "y = 'Open'\n",
        "X = hf_train.columns\n",
        "X.remove(y)"
      ],
      "execution_count": 0,
      "outputs": []
    },
    {
      "cell_type": "code",
      "metadata": {
        "id": "qTt1UNYoSdxB",
        "colab_type": "code",
        "outputId": "0157f687-f281-4ee0-cece-4ad078ab5031",
        "colab": {
          "base_uri": "https://localhost:8080/",
          "height": 578
        }
      },
      "source": [
        "X"
      ],
      "execution_count": 0,
      "outputs": [
        {
          "output_type": "execute_result",
          "data": {
            "text/plain": [
              "['Open_lag1',\n",
              " 'Open_avg_window_length2',\n",
              " 'Open_lag2',\n",
              " 'Open_avg_window_length3',\n",
              " 'Open_lag3',\n",
              " 'Open_avg_window_length4',\n",
              " 'High_lag1',\n",
              " 'High_avg_window_length2',\n",
              " 'High_lag2',\n",
              " 'High_avg_window_length3',\n",
              " 'High_lag3',\n",
              " 'High_avg_window_length4',\n",
              " 'Low_lag1',\n",
              " 'Low_avg_window_length2',\n",
              " 'Low_lag2',\n",
              " 'Low_avg_window_length3',\n",
              " 'Low_lag3',\n",
              " 'Low_avg_window_length4',\n",
              " 'Close_lag1',\n",
              " 'Close_avg_window_length2',\n",
              " 'Close_lag2',\n",
              " 'Close_avg_window_length3',\n",
              " 'Close_lag3',\n",
              " 'Close_avg_window_length4',\n",
              " 'Adj Close_lag1',\n",
              " 'Adj Close_avg_window_length2',\n",
              " 'Adj Close_lag2',\n",
              " 'Adj Close_avg_window_length3',\n",
              " 'Adj Close_lag3',\n",
              " 'Adj Close_avg_window_length4',\n",
              " 'Volume_lag1',\n",
              " 'Volume_lag2',\n",
              " 'Volume_lag3']"
            ]
          },
          "metadata": {
            "tags": []
          },
          "execution_count": 25
        }
      ]
    },
    {
      "cell_type": "code",
      "metadata": {
        "id": "OGn3LjsUSdlx",
        "colab_type": "code",
        "outputId": "0da95e93-f19f-4ce2-99e5-1d6d7a16eebc",
        "colab": {
          "base_uri": "https://localhost:8080/",
          "height": 34
        }
      },
      "source": [
        "aml = H2OAutoML(max_runtime_secs = 600,\n",
        "                seed = 42)\n",
        "aml.train(x = X, \n",
        "          y = y,\n",
        "          training_frame = hf_train,\n",
        "          leaderboard_frame = hf_test)"
      ],
      "execution_count": 0,
      "outputs": [
        {
          "output_type": "stream",
          "text": [
            "AutoML progress: |████████████████████████████████████████████████████████| 100%\n"
          ],
          "name": "stdout"
        }
      ]
    },
    {
      "cell_type": "code",
      "metadata": {
        "id": "DUWG7hMySdW-",
        "colab_type": "code",
        "outputId": "bec61727-bb38-4e3d-dbd3-6b40d346e6a4",
        "colab": {
          "base_uri": "https://localhost:8080/",
          "height": 250
        }
      },
      "source": [
        "lb = aml.leaderboard\n",
        "lb.head()"
      ],
      "execution_count": 0,
      "outputs": [
        {
          "output_type": "display_data",
          "data": {
            "text/html": [
              "<table>\n",
              "<thead>\n",
              "<tr><th>model_id                                           </th><th style=\"text-align: right;\">  mean_residual_deviance</th><th style=\"text-align: right;\">   rmse</th><th style=\"text-align: right;\">   mse</th><th style=\"text-align: right;\">    mae</th><th style=\"text-align: right;\">    rmsle</th></tr>\n",
              "</thead>\n",
              "<tbody>\n",
              "<tr><td>DRF_1_AutoML_20200507_153111                       </td><td style=\"text-align: right;\">                  190131</td><td style=\"text-align: right;\">436.04 </td><td style=\"text-align: right;\">190131</td><td style=\"text-align: right;\">293.057</td><td style=\"text-align: right;\">0.0512703</td></tr>\n",
              "<tr><td>StackedEnsemble_BestOfFamily_AutoML_20200507_153111</td><td style=\"text-align: right;\">                  192464</td><td style=\"text-align: right;\">438.707</td><td style=\"text-align: right;\">192464</td><td style=\"text-align: right;\">290.539</td><td style=\"text-align: right;\">0.0517056</td></tr>\n",
              "<tr><td>XGBoost_grid__1_AutoML_20200507_153111_model_8     </td><td style=\"text-align: right;\">                  229684</td><td style=\"text-align: right;\">479.253</td><td style=\"text-align: right;\">229684</td><td style=\"text-align: right;\">351.497</td><td style=\"text-align: right;\">0.0571894</td></tr>\n",
              "<tr><td>GBM_grid__1_AutoML_20200507_153111_model_7         </td><td style=\"text-align: right;\">                  229701</td><td style=\"text-align: right;\">479.272</td><td style=\"text-align: right;\">229701</td><td style=\"text-align: right;\">331.654</td><td style=\"text-align: right;\">0.0572685</td></tr>\n",
              "<tr><td>StackedEnsemble_AllModels_AutoML_20200507_153111   </td><td style=\"text-align: right;\">                  261821</td><td style=\"text-align: right;\">511.684</td><td style=\"text-align: right;\">261821</td><td style=\"text-align: right;\">367.831</td><td style=\"text-align: right;\">0.0605972</td></tr>\n",
              "<tr><td>XRT_1_AutoML_20200507_153111                       </td><td style=\"text-align: right;\">                  263862</td><td style=\"text-align: right;\">513.675</td><td style=\"text-align: right;\">263862</td><td style=\"text-align: right;\">340.577</td><td style=\"text-align: right;\">0.0580268</td></tr>\n",
              "<tr><td>XGBoost_grid__1_AutoML_20200507_153111_model_13    </td><td style=\"text-align: right;\">                  281573</td><td style=\"text-align: right;\">530.635</td><td style=\"text-align: right;\">281573</td><td style=\"text-align: right;\">383.222</td><td style=\"text-align: right;\">0.0636069</td></tr>\n",
              "<tr><td>GBM_1_AutoML_20200507_153111                       </td><td style=\"text-align: right;\">                  332291</td><td style=\"text-align: right;\">576.446</td><td style=\"text-align: right;\">332291</td><td style=\"text-align: right;\">428.11 </td><td style=\"text-align: right;\">0.0666432</td></tr>\n",
              "<tr><td>XGBoost_grid__1_AutoML_20200507_153111_model_33    </td><td style=\"text-align: right;\">                  350945</td><td style=\"text-align: right;\">592.406</td><td style=\"text-align: right;\">350945</td><td style=\"text-align: right;\">417.366</td><td style=\"text-align: right;\">0.0655655</td></tr>\n",
              "<tr><td>XGBoost_grid__1_AutoML_20200507_153111_model_27    </td><td style=\"text-align: right;\">                  354061</td><td style=\"text-align: right;\">595.03 </td><td style=\"text-align: right;\">354061</td><td style=\"text-align: right;\">420.857</td><td style=\"text-align: right;\">0.0677108</td></tr>\n",
              "</tbody>\n",
              "</table>"
            ]
          },
          "metadata": {
            "tags": []
          }
        },
        {
          "output_type": "execute_result",
          "data": {
            "text/plain": [
              ""
            ]
          },
          "metadata": {
            "tags": []
          },
          "execution_count": 27
        }
      ]
    },
    {
      "cell_type": "code",
      "metadata": {
        "id": "ufgOIAppSmSk",
        "colab_type": "code",
        "colab": {}
      },
      "source": [
        "lead=aml.leader"
      ],
      "execution_count": 0,
      "outputs": []
    },
    {
      "cell_type": "code",
      "metadata": {
        "id": "3Aj9s3Y-Sy9S",
        "colab_type": "code",
        "outputId": "1cbbeaec-664e-453c-896c-ec3b7a92f21e",
        "colab": {
          "base_uri": "https://localhost:8080/",
          "height": 51
        }
      },
      "source": [
        "preds = lead.predict(hf_test)\n",
        "preds1 = lead.predict(hf_train)"
      ],
      "execution_count": 0,
      "outputs": [
        {
          "output_type": "stream",
          "text": [
            "drf prediction progress: |████████████████████████████████████████████████| 100%\n",
            "drf prediction progress: |████████████████████████████████████████████████| 100%\n"
          ],
          "name": "stdout"
        }
      ]
    },
    {
      "cell_type": "code",
      "metadata": {
        "id": "OJwTzgj8S07B",
        "colab_type": "code",
        "outputId": "97ba0c95-35e5-4ad8-d316-a774e289ec9e",
        "colab": {
          "base_uri": "https://localhost:8080/",
          "height": 204
        }
      },
      "source": [
        "#prediksi AutoML terhadap data test\n",
        "df_results = pd.DataFrame()\n",
        "df_results['real'] = df_test['Open'].reset_index(drop=True)\n",
        "df_results['predictions'] = h2o.as_list(preds,use_pandas=True)\n",
        "df_results.head()"
      ],
      "execution_count": 0,
      "outputs": [
        {
          "output_type": "execute_result",
          "data": {
            "text/html": [
              "<div>\n",
              "<style scoped>\n",
              "    .dataframe tbody tr th:only-of-type {\n",
              "        vertical-align: middle;\n",
              "    }\n",
              "\n",
              "    .dataframe tbody tr th {\n",
              "        vertical-align: top;\n",
              "    }\n",
              "\n",
              "    .dataframe thead th {\n",
              "        text-align: right;\n",
              "    }\n",
              "</style>\n",
              "<table border=\"1\" class=\"dataframe\">\n",
              "  <thead>\n",
              "    <tr style=\"text-align: right;\">\n",
              "      <th></th>\n",
              "      <th>real</th>\n",
              "      <th>predictions</th>\n",
              "    </tr>\n",
              "  </thead>\n",
              "  <tbody>\n",
              "    <tr>\n",
              "      <th>0</th>\n",
              "      <td>3653.604004</td>\n",
              "      <td>3648.648373</td>\n",
              "    </tr>\n",
              "    <tr>\n",
              "      <th>1</th>\n",
              "      <td>3631.170166</td>\n",
              "      <td>3642.171372</td>\n",
              "    </tr>\n",
              "    <tr>\n",
              "      <th>2</th>\n",
              "      <td>3617.368408</td>\n",
              "      <td>3596.704188</td>\n",
              "    </tr>\n",
              "    <tr>\n",
              "      <th>3</th>\n",
              "      <td>3615.270264</td>\n",
              "      <td>3632.023387</td>\n",
              "    </tr>\n",
              "    <tr>\n",
              "      <th>4</th>\n",
              "      <td>3633.359375</td>\n",
              "      <td>3798.589628</td>\n",
              "    </tr>\n",
              "  </tbody>\n",
              "</table>\n",
              "</div>"
            ],
            "text/plain": [
              "          real  predictions\n",
              "0  3653.604004  3648.648373\n",
              "1  3631.170166  3642.171372\n",
              "2  3617.368408  3596.704188\n",
              "3  3615.270264  3632.023387\n",
              "4  3633.359375  3798.589628"
            ]
          },
          "metadata": {
            "tags": []
          },
          "execution_count": 30
        }
      ]
    },
    {
      "cell_type": "code",
      "metadata": {
        "id": "bTEgCn32HJcE",
        "colab_type": "code",
        "outputId": "cc8f03cb-5176-4a3b-e1ef-2e2b88975a42",
        "colab": {
          "base_uri": "https://localhost:8080/",
          "height": 204
        }
      },
      "source": [
        "#prediksi AutoML terhadap data train\n",
        "df_results1 = pd.DataFrame()\n",
        "df_results1['real'] = df_train['Open'].reset_index(drop=True)\n",
        "df_results1['predictions'] = h2o.as_list(preds1,use_pandas=True)\n",
        "df_results1.tail()"
      ],
      "execution_count": 0,
      "outputs": [
        {
          "output_type": "execute_result",
          "data": {
            "text/html": [
              "<div>\n",
              "<style scoped>\n",
              "    .dataframe tbody tr th:only-of-type {\n",
              "        vertical-align: middle;\n",
              "    }\n",
              "\n",
              "    .dataframe tbody tr th {\n",
              "        vertical-align: top;\n",
              "    }\n",
              "\n",
              "    .dataframe thead th {\n",
              "        text-align: right;\n",
              "    }\n",
              "</style>\n",
              "<table border=\"1\" class=\"dataframe\">\n",
              "  <thead>\n",
              "    <tr style=\"text-align: right;\">\n",
              "      <th></th>\n",
              "      <th>real</th>\n",
              "      <th>predictions</th>\n",
              "    </tr>\n",
              "  </thead>\n",
              "  <tbody>\n",
              "    <tr>\n",
              "      <th>1606</th>\n",
              "      <td>3671.585938</td>\n",
              "      <td>3661.532887</td>\n",
              "    </tr>\n",
              "    <tr>\n",
              "      <th>1607</th>\n",
              "      <td>3673.201416</td>\n",
              "      <td>3669.277961</td>\n",
              "    </tr>\n",
              "    <tr>\n",
              "      <th>1608</th>\n",
              "      <td>3695.613037</td>\n",
              "      <td>3684.417330</td>\n",
              "    </tr>\n",
              "    <tr>\n",
              "      <th>1609</th>\n",
              "      <td>3642.751953</td>\n",
              "      <td>3644.337826</td>\n",
              "    </tr>\n",
              "    <tr>\n",
              "      <th>1610</th>\n",
              "      <td>3653.604004</td>\n",
              "      <td>3648.648373</td>\n",
              "    </tr>\n",
              "  </tbody>\n",
              "</table>\n",
              "</div>"
            ],
            "text/plain": [
              "             real  predictions\n",
              "1606  3671.585938  3661.532887\n",
              "1607  3673.201416  3669.277961\n",
              "1608  3695.613037  3684.417330\n",
              "1609  3642.751953  3644.337826\n",
              "1610  3653.604004  3648.648373"
            ]
          },
          "metadata": {
            "tags": []
          },
          "execution_count": 31
        }
      ]
    },
    {
      "cell_type": "code",
      "metadata": {
        "id": "GsaIuKyyP6hc",
        "colab_type": "code",
        "colab": {}
      },
      "source": [
        "def mape(y_true, y_pred):\n",
        "    y_true, y_pred = np.array(y_true), np.array(y_pred)\n",
        "    return np.mean(np.abs((y_true - y_pred) / y_true)) * 100"
      ],
      "execution_count": 0,
      "outputs": []
    },
    {
      "cell_type": "code",
      "metadata": {
        "id": "0TPk8H1fS3UI",
        "colab_type": "code",
        "outputId": "f82c8a4d-9853-44b9-fa67-2b31edb1d1bc",
        "colab": {
          "base_uri": "https://localhost:8080/",
          "height": 68
        }
      },
      "source": [
        "from sklearn.metrics import mean_absolute_error\n",
        "\n",
        "slope, intercept, r_value, p_value, std_err = stats.linregress(x=df_results['predictions'],y=df_results['real'])\n",
        "R2 = r_value**2 \n",
        "er = 1 - R2\n",
        "mape1 = mape(df_results['real'],df_results['predictions'])\n",
        "print('Akurasi R2 dan Error prediksi vs test')\n",
        "print('R2 = ',r_value*r_value)\n",
        "#print('Error : ',er)\n",
        "#print('Mean Absolute Error: ' + str(mean_absolute_error(df_results['predictions'],df_results['real'])))\n",
        "print('MAPE: ' \"{:.2f}\".format(mape1)+'%')"
      ],
      "execution_count": 0,
      "outputs": [
        {
          "output_type": "stream",
          "text": [
            "Akurasi R2 dan Error prediksi vs test\n",
            "R2 =  0.9663972233214435\n",
            "MAPE: 3.54%\n"
          ],
          "name": "stdout"
        }
      ]
    },
    {
      "cell_type": "code",
      "metadata": {
        "id": "nz3iyeHCHdtH",
        "colab_type": "code",
        "outputId": "e35f28f1-13f3-4ae7-c65e-4ef681128da5",
        "colab": {
          "base_uri": "https://localhost:8080/",
          "height": 68
        }
      },
      "source": [
        "slope, intercept, r_value, p_value, std_err = stats.linregress(x=df_results1['predictions'],y=df_results1['real'])\n",
        "R2 = r_value**2 \n",
        "er = 1 - R2\n",
        "mape1 = mape(df_results1['real'],df_results1['predictions'])\n",
        "print('Akurasi R2 dan Error prediksi vs train')\n",
        "print('R2 : ',R2)\n",
        "#print('error : ',er)\n",
        "#print(\"Mean Absolute Error: \" + str(mean_absolute_error(df_results1['predictions'],df_results1['real'])))\n",
        "print('MAPE: ' \"{:.2f}\".format(mape1)+'%')"
      ],
      "execution_count": 0,
      "outputs": [
        {
          "output_type": "stream",
          "text": [
            "Akurasi R2 dan Error prediksi vs train\n",
            "R2 :  0.9988227393291373\n",
            "MAPE: 1.17%\n"
          ],
          "name": "stdout"
        }
      ]
    },
    {
      "cell_type": "code",
      "metadata": {
        "id": "WyUuTBJzcvzM",
        "colab_type": "code",
        "outputId": "e154e103-f9f6-4a00-87a1-726e5aa3984e",
        "colab": {
          "base_uri": "https://localhost:8080/",
          "height": 465
        }
      },
      "source": [
        "plt.figure(figsize=(15,7))\n",
        "sns.set(style=\"whitegrid\")\n",
        "#plt.title('Harga Open Bitcoin per Tahun')\n",
        "sns.scatterplot(data=df_results, x=df_results['predictions'],y=df_results['real'],color='limegreen')"
      ],
      "execution_count": 0,
      "outputs": [
        {
          "output_type": "execute_result",
          "data": {
            "text/plain": [
              "<matplotlib.axes._subplots.AxesSubplot at 0x7fd9dade54e0>"
            ]
          },
          "metadata": {
            "tags": []
          },
          "execution_count": 35
        },
        {
          "output_type": "display_data",
          "data": {
            "image/png": "[encoded data removed]",
            "text/plain": [
              "<Figure size 1080x504 with 1 Axes>"
            ]
          },
          "metadata": {
            "tags": []
          }
        }
      ]
    },
    {
      "cell_type": "code",
      "metadata": {
        "id": "I2-I_J4W2xF-",
        "colab_type": "code",
        "outputId": "56cb7c5b-5001-44c4-c2e6-df4f76eabc68",
        "colab": {
          "base_uri": "https://localhost:8080/",
          "height": 465
        }
      },
      "source": [
        "plt.figure(figsize=(15,7))\n",
        "sns.set(style=\"whitegrid\")\n",
        "#plt.title('Harga Open Bitcoin per Tahun')\n",
        "sns.scatterplot(data=df_results1, x=df_results1['predictions'],y=df_results1['real'],color='limegreen')"
      ],
      "execution_count": 0,
      "outputs": [
        {
          "output_type": "execute_result",
          "data": {
            "text/plain": [
              "<matplotlib.axes._subplots.AxesSubplot at 0x7fd9d70f3a58>"
            ]
          },
          "metadata": {
            "tags": []
          },
          "execution_count": 36
        },
        {
          "output_type": "display_data",
          "data": {
            "image/png": "[encoded data removed]",
            "text/plain": [
              "<Figure size 1080x504 with 1 Axes>"
            ]
          },
          "metadata": {
            "tags": []
          }
        }
      ]
    },
    {
      "cell_type": "code",
      "metadata": {
        "id": "9AjUZetNcuHd",
        "colab_type": "code",
        "outputId": "c3339863-25d5-451d-a78c-98b28a3ed26b",
        "colab": {
          "base_uri": "https://localhost:8080/",
          "height": 464
        }
      },
      "source": [
        "plt.figure(figsize=(15,7))\n",
        "sns.set(style=\"whitegrid\")\n",
        "plt.title('Harga Open Bitcoin Real vs Prediksi')\n",
        "sns.lineplot(data=df_results['real'], label='real',color='limegreen')\n",
        "sns.lineplot(data=df_results['predictions'], label='prediksi',color='palevioletred')"
      ],
      "execution_count": 0,
      "outputs": [
        {
          "output_type": "execute_result",
          "data": {
            "text/plain": [
              "<matplotlib.axes._subplots.AxesSubplot at 0x7fd9d70f6518>"
            ]
          },
          "metadata": {
            "tags": []
          },
          "execution_count": 37
        },
        {
          "output_type": "display_data",
          "data": {
            "image/png": "[encoded data removed]",
            "text/plain": [
              "<Figure size 1080x504 with 1 Axes>"
            ]
          },
          "metadata": {
            "tags": []
          }
        }
      ]
    },
    {
      "cell_type": "code",
      "metadata": {
        "id": "OtC9wxmt22-L",
        "colab_type": "code",
        "outputId": "6f4d9e06-03e2-42d0-9b8a-21b04b8628b4",
        "colab": {
          "base_uri": "https://localhost:8080/",
          "height": 464
        }
      },
      "source": [
        "plt.figure(figsize=(15,7))\n",
        "sns.set(style=\"whitegrid\")\n",
        "plt.title('Harga Open Bitcoin Real vs Prediksi')\n",
        "sns.lineplot(data=df_results1['real'], label='real',color='limegreen')\n",
        "sns.lineplot(data=df_results1['predictions'], label='prediksi',color='palevioletred')"
      ],
      "execution_count": 0,
      "outputs": [
        {
          "output_type": "execute_result",
          "data": {
            "text/plain": [
              "<matplotlib.axes._subplots.AxesSubplot at 0x7fd9d707df98>"
            ]
          },
          "metadata": {
            "tags": []
          },
          "execution_count": 38
        },
        {
          "output_type": "display_data",
          "data": {
            "image/png": "[encoded data removed]",
            "text/plain": [
              "<Figure size 1080x504 with 1 Axes>"
            ]
          },
          "metadata": {
            "tags": []
          }
        }
      ]
    },
    {
      "cell_type": "code",
      "metadata": {
        "id": "6O7kA-4gSmAi",
        "colab_type": "code",
        "colab": {}
      },
      "source": [
        ""
      ],
      "execution_count": 0,
      "outputs": []
    }
  ]
}